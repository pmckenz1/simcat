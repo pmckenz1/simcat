{
 "cells": [
  {
   "cell_type": "markdown",
   "metadata": {},
   "source": [
    "# Using simcat for network inference\n",
    "## Three-step process: \n",
    "1) Training database simulation  \n",
    "2) Model training  \n",
    "3) Model application  "
   ]
  },
  {
   "cell_type": "markdown",
   "metadata": {},
   "source": [
    "## 1) Training database simulation"
   ]
  },
  {
   "cell_type": "markdown",
   "metadata": {},
   "source": [
    "### Imports"
   ]
  },
  {
   "cell_type": "code",
   "execution_count": 1,
   "metadata": {},
   "outputs": [],
   "source": [
    "import ipcoal\n",
    "import toytree\n",
    "import simcat"
   ]
  },
  {
   "cell_type": "markdown",
   "metadata": {},
   "source": [
    "### Read in your species tree:"
   ]
  },
  {
   "cell_type": "code",
   "execution_count": 2,
   "metadata": {},
   "outputs": [
    {
     "data": {
      "text/plain": [
       "'(beebalm:8.57143e+06,(whale_shark:7.14286e+06,(coelacanth:5.71429e+06,(spotted_salamander:4.28571e+06,(hamster:2.85714e+06,(dragon:1.42857e+06,kinglet:1.42857e+06)0:1.42857e+06)0:1.42857e+06)0:1.42857e+06)0:1.42857e+06)0:1.42857e+06);'"
      ]
     },
     "execution_count": 2,
     "metadata": {},
     "output_type": "execute_result"
    }
   ],
   "source": [
    "# we assume we already have a newick\n",
    "newick = '(beebalm:8.57143e+06,(whale_shark:7.14286e+06,(coelacanth:5.71429e+06,(spotted_salamander:4.28571e+06,(hamster:2.85714e+06,(dragon:1.42857e+06,kinglet:1.42857e+06)0:1.42857e+06)0:1.42857e+06)0:1.42857e+06)0:1.42857e+06)0:1.42857e+06);'\n",
    "newick"
   ]
  },
  {
   "cell_type": "code",
   "execution_count": 3,
   "metadata": {},
   "outputs": [
    {
     "data": {
      "text/html": [
       "<div class=\"toyplot\" id=\"t10990f0ea0d54b48a213f36442c7f4e8\" style=\"text-align:center\"><svg class=\"toyplot-canvas-Canvas\" height=\"275.0px\" id=\"t73769ed59df146f69f4e3d80b25f2704\" preserveAspectRatio=\"xMidYMid meet\" style=\"background-color:transparent;border-color:#292724;border-style:none;border-width:1.0;fill:rgb(16.1%,15.3%,14.1%);fill-opacity:1.0;font-family:Helvetica;font-size:12px;opacity:1.0;stroke:rgb(16.1%,15.3%,14.1%);stroke-opacity:1.0;stroke-width:1.0\" viewBox=\"0 0 340.0 275.0\" width=\"340.0px\" xmlns=\"http://www.w3.org/2000/svg\" xmlns:toyplot=\"http://www.sandia.gov/toyplot\" xmlns:xlink=\"http://www.w3.org/1999/xlink\"><g class=\"toyplot-coordinates-Cartesian\" id=\"t30e0f4ce6bba4db7a268e98f7bd3fe64\"><clipPath id=\"ta5c52a0ab8004db1a2b39c0da1697210\"><rect height=\"215.0\" width=\"280.0\" x=\"30.0\" y=\"30.0\"></rect></clipPath><g clip-path=\"url(#ta5c52a0ab8004db1a2b39c0da1697210)\"><g class=\"toytree-mark-Toytree\" id=\"t441d963062fe483590ca42c00f630d3f\"><g class=\"toytree-Edges\" style=\"fill:none;stroke:rgb(14.9%,14.9%,14.9%);stroke-linecap:round;stroke-opacity:1;stroke-width:2\"><path d=\"M 51.1 86.1 L 51.1 111.2 L 73.3 111.2\" id=\"12,11\"></path><path d=\"M 73.3 111.2 L 73.3 135.9 L 95.5 135.9\" id=\"11,10\"></path><path d=\"M 95.5 135.9 L 95.5 159.8 L 117.7 159.8\" id=\"10,9\"></path><path d=\"M 117.7 159.8 L 117.7 182.1 L 139.9 182.1\" id=\"9,8\"></path><path d=\"M 139.9 182.1 L 139.9 201.2 L 162.2 201.2\" id=\"8,7\"></path><path d=\"M 51.1 86.1 L 51.1 61.0 L 184.4 61.0\" id=\"12,6\"></path><path d=\"M 73.3 111.2 L 73.3 86.5 L 184.4 86.5\" id=\"11,5\"></path><path d=\"M 95.5 135.9 L 95.5 112.0 L 184.4 112.0\" id=\"10,4\"></path><path d=\"M 117.7 159.8 L 117.7 137.5 L 184.4 137.5\" id=\"9,3\"></path><path d=\"M 139.9 182.1 L 139.9 163.0 L 184.4 163.0\" id=\"8,2\"></path><path d=\"M 162.2 201.2 L 162.2 188.5 L 184.4 188.5\" id=\"7,1\"></path><path d=\"M 162.2 201.2 L 162.2 214.0 L 184.4 214.0\" id=\"7,0\"></path></g><g class=\"toytree-TipLabels\" style=\"fill:rgb(14.9%,14.9%,14.9%);fill-opacity:1.0;font-family:helvetica;font-size:11px;font-weight:normal;stroke:none;white-space:pre\"><g transform=\"translate(184.36,213.99)rotate(0)\"><text style=\"\" x=\"15.00\" y=\"2.81\">kinglet</text></g><g transform=\"translate(184.36,188.49)rotate(0)\"><text style=\"\" x=\"15.00\" y=\"2.81\">dragon</text></g><g transform=\"translate(184.36,163.00)rotate(0)\"><text style=\"\" x=\"15.00\" y=\"2.81\">hamster</text></g><g transform=\"translate(184.36,137.50)rotate(0)\"><text style=\"\" x=\"15.00\" y=\"2.81\">spotted_salamander</text></g><g transform=\"translate(184.36,112.00)rotate(0)\"><text style=\"\" x=\"15.00\" y=\"2.81\">coelacanth</text></g><g transform=\"translate(184.36,86.51)rotate(0)\"><text style=\"\" x=\"15.00\" y=\"2.81\">whale_shark</text></g><g transform=\"translate(184.36,61.01)rotate(0)\"><text style=\"\" x=\"15.00\" y=\"2.81\">beebalm</text></g></g></g></g></g></svg><div class=\"toyplot-behavior\"><script>(function()\n",
       "{\n",
       "var modules={};\n",
       "})();</script></div></div>"
      ]
     },
     "metadata": {},
     "output_type": "display_data"
    }
   ],
   "source": [
    "# convert to toytree format\n",
    "tree = toytree.tree(newick)\n",
    "\n",
    "# look at it\n",
    "tree.draw();"
   ]
  },
  {
   "cell_type": "code",
   "execution_count": 4,
   "metadata": {},
   "outputs": [
    {
     "data": {
      "text/html": [
       "<div class=\"toyplot\" id=\"t9063131b66d645218c3f84d4ccff27ab\" style=\"text-align:center\"><svg class=\"toyplot-canvas-Canvas\" height=\"275.0px\" id=\"t3220c8096bf84a54ade14bb071b56e83\" preserveAspectRatio=\"xMidYMid meet\" style=\"background-color:transparent;border-color:#292724;border-style:none;border-width:1.0;fill:rgb(16.1%,15.3%,14.1%);fill-opacity:1.0;font-family:Helvetica;font-size:12px;opacity:1.0;stroke:rgb(16.1%,15.3%,14.1%);stroke-opacity:1.0;stroke-width:1.0\" viewBox=\"0 0 255.0 275.0\" width=\"255.0px\" xmlns=\"http://www.w3.org/2000/svg\" xmlns:toyplot=\"http://www.sandia.gov/toyplot\" xmlns:xlink=\"http://www.w3.org/1999/xlink\"><g class=\"toyplot-coordinates-Cartesian\" id=\"t739f9fa6a41d4e6683c177cb868e2de6\"><clipPath id=\"td2846acb85de40fa836591992ec22cc3\"><rect height=\"215.0\" width=\"195.0\" x=\"30.0\" y=\"30.0\"></rect></clipPath><g clip-path=\"url(#td2846acb85de40fa836591992ec22cc3)\"><g class=\"toytree-mark-Toytree\" id=\"t5478462059f445ae8d26da1f71fd121a\"><g class=\"toytree-Edges\" style=\"fill:none;stroke:rgb(14.9%,14.9%,14.9%);stroke-linecap:round;stroke-opacity:1;stroke-width:2\"><path d=\"M 50.0 86.1 L 50.0 111.2 L 74.0 111.2\" id=\"12,11\"></path><path d=\"M 74.0 111.2 L 74.0 135.9 L 98.0 135.9\" id=\"11,10\"></path><path d=\"M 98.0 135.9 L 98.0 159.8 L 122.1 159.8\" id=\"10,9\"></path><path d=\"M 122.1 159.8 L 122.1 182.1 L 146.1 182.1\" id=\"9,8\"></path><path d=\"M 146.1 182.1 L 146.1 201.2 L 170.1 201.2\" id=\"8,7\"></path><path d=\"M 50.0 86.1 L 50.0 61.0 L 194.1 61.0\" id=\"12,6\"></path><path d=\"M 74.0 111.2 L 74.0 86.5 L 194.1 86.5\" id=\"11,5\"></path><path d=\"M 98.0 135.9 L 98.0 112.0 L 194.1 112.0\" id=\"10,4\"></path><path d=\"M 122.1 159.8 L 122.1 137.5 L 194.1 137.5\" id=\"9,3\"></path><path d=\"M 146.1 182.1 L 146.1 163.0 L 194.1 163.0\" id=\"8,2\"></path><path d=\"M 170.1 201.2 L 170.1 188.5 L 194.1 188.5\" id=\"7,1\"></path><path d=\"M 170.1 201.2 L 170.1 214.0 L 194.1 214.0\" id=\"7,0\"></path></g><g class=\"toytree-Nodes\" style=\"fill:rgb(40%,76.1%,64.7%);fill-opacity:1.0;stroke:None;stroke-width:1\"><g id=\"node-0\" transform=\"translate(194.142,213.986)\"><circle r=\"0.0\"></circle></g><g id=\"node-1\" transform=\"translate(194.142,188.491)\"><circle r=\"0.0\"></circle></g><g id=\"node-2\" transform=\"translate(194.142,162.995)\"><circle r=\"0.0\"></circle></g><g id=\"node-3\" transform=\"translate(194.142,137.500)\"><circle r=\"0.0\"></circle></g><g id=\"node-4\" transform=\"translate(194.142,112.005)\"><circle r=\"0.0\"></circle></g><g id=\"node-5\" transform=\"translate(194.142,86.509)\"><circle r=\"0.0\"></circle></g><g id=\"node-6\" transform=\"translate(194.142,61.014)\"><circle r=\"0.0\"></circle></g><g id=\"node-7\" transform=\"translate(170.118,201.238)\"><circle r=\"7.5\"></circle></g><g id=\"node-8\" transform=\"translate(146.095,182.117)\"><circle r=\"7.5\"></circle></g><g id=\"node-9\" transform=\"translate(122.071,159.808)\"><circle r=\"7.5\"></circle></g><g id=\"node-10\" transform=\"translate(98.047,135.907)\"><circle r=\"7.5\"></circle></g><g id=\"node-11\" transform=\"translate(74.024,111.208)\"><circle r=\"7.5\"></circle></g><g id=\"node-12\" transform=\"translate(50.000,86.111)\"><circle r=\"0.0\"></circle></g></g><g class=\"toytree-NodeLabels\" style=\"fill:rgb(14.9%,14.9%,14.9%);fill-opacity:1.0;font-size:9px;stroke:none\"><g transform=\"translate(167.62,203.54)\"><text>7</text></g><g transform=\"translate(143.59,184.42)\"><text>8</text></g><g transform=\"translate(119.57,162.11)\"><text>9</text></g><g transform=\"translate(93.04,138.21)\"><text>10</text></g><g transform=\"translate(69.02,113.51)\"><text>11</text></g></g><g class=\"toytree-TipLabels\" style=\"fill:rgb(14.9%,14.9%,14.9%);fill-opacity:1.0;font-family:helvetica;font-size:11px;font-weight:normal;stroke:none;white-space:pre\"><g transform=\"translate(194.14,213.99)rotate(0)\"><text style=\"\" x=\"15.00\" y=\"2.81\">0</text></g><g transform=\"translate(194.14,188.49)rotate(0)\"><text style=\"\" x=\"15.00\" y=\"2.81\">1</text></g><g transform=\"translate(194.14,163.00)rotate(0)\"><text style=\"\" x=\"15.00\" y=\"2.81\">2</text></g><g transform=\"translate(194.14,137.50)rotate(0)\"><text style=\"\" x=\"15.00\" y=\"2.81\">3</text></g><g transform=\"translate(194.14,112.00)rotate(0)\"><text style=\"\" x=\"15.00\" y=\"2.81\">4</text></g><g transform=\"translate(194.14,86.51)rotate(0)\"><text style=\"\" x=\"15.00\" y=\"2.81\">5</text></g><g transform=\"translate(194.14,61.01)rotate(0)\"><text style=\"\" x=\"15.00\" y=\"2.81\">6</text></g></g></g></g></g></svg><div class=\"toyplot-behavior\"><script>(function()\n",
       "{\n",
       "var modules={};\n",
       "})();</script></div></div>"
      ]
     },
     "metadata": {},
     "output_type": "display_data"
    }
   ],
   "source": [
    "# Each edge is named by its tip-ward node number.\n",
    "tree.draw(node_labels='idx',\n",
    "          node_sizes=15,\n",
    "          tip_labels=['0','1','2','3','4','5','6']);"
   ]
  },
  {
   "cell_type": "markdown",
   "metadata": {},
   "source": [
    "### Use simcat to automatically construct an empty database"
   ]
  },
  {
   "cell_type": "markdown",
   "metadata": {},
   "source": [
    "For the purposes of the tutorial we will make the training database small -- just 500 simulations with 5000 SNPs each."
   ]
  },
  {
   "cell_type": "code",
   "execution_count": 5,
   "metadata": {},
   "outputs": [
    {
     "ename": "OperationalError",
     "evalue": "database or disk is full",
     "output_type": "error",
     "traceback": [
      "\u001b[0;31m---------------------------------------------------------------------------\u001b[0m",
      "\u001b[0;31mOperationalError\u001b[0m                          Traceback (most recent call last)",
      "\u001b[0;32m<ipython-input-5-99ba1e47c6dc>\u001b[0m in \u001b[0;36m<module>\u001b[0;34m\u001b[0m\n\u001b[1;32m     12\u001b[0m                 \u001b[0mexclude_sisters\u001b[0m\u001b[0;34m=\u001b[0m\u001b[0;32mTrue\u001b[0m\u001b[0;34m,\u001b[0m\u001b[0;34m\u001b[0m\u001b[0;34m\u001b[0m\u001b[0m\n\u001b[1;32m     13\u001b[0m                 \u001b[0mnode_slide_prop\u001b[0m\u001b[0;34m=\u001b[0m\u001b[0;36m0.1\u001b[0m\u001b[0;34m,\u001b[0m\u001b[0;34m\u001b[0m\u001b[0;34m\u001b[0m\u001b[0m\n\u001b[0;32m---> 14\u001b[0;31m                 existing_admix_edges=[],)\n\u001b[0m",
      "\u001b[0;32m~/googledrive/projects/simcat/simcat/Database.py\u001b[0m in \u001b[0;36m__init__\u001b[0;34m(self, name, workdir, tree, nrows, nsnps, existing_admix_edges, Ne_min, Ne_max, admix_prop_min, admix_prop_max, admix_edge_min, admix_edge_max, exclude_sisters, node_slide_prop, seed, force, quiet)\u001b[0m\n\u001b[1;32m    207\u001b[0m \u001b[0;34m\u001b[0m\u001b[0m\n\u001b[1;32m    208\u001b[0m         \u001b[0;31m# create or clear the database for writing\u001b[0m\u001b[0;34m\u001b[0m\u001b[0;34m\u001b[0m\u001b[0;34m\u001b[0m\u001b[0m\n\u001b[0;32m--> 209\u001b[0;31m         \u001b[0mself\u001b[0m\u001b[0;34m.\u001b[0m\u001b[0minit_databases\u001b[0m\u001b[0;34m(\u001b[0m\u001b[0mforce\u001b[0m\u001b[0;34m)\u001b[0m\u001b[0;34m\u001b[0m\u001b[0;34m\u001b[0m\u001b[0m\n\u001b[0m\u001b[1;32m    210\u001b[0m \u001b[0;34m\u001b[0m\u001b[0m\n\u001b[1;32m    211\u001b[0m         \u001b[0;31m# print to user a progress report\u001b[0m\u001b[0;34m\u001b[0m\u001b[0;34m\u001b[0m\u001b[0;34m\u001b[0m\u001b[0m\n",
      "\u001b[0;32m~/googledrive/projects/simcat/simcat/Database.py\u001b[0m in \u001b[0;36minit_databases\u001b[0;34m(self, force)\u001b[0m\n\u001b[1;32m    302\u001b[0m         \u001b[0mz_a\u001b[0m \u001b[0;34m=\u001b[0m \u001b[0mnp\u001b[0m\u001b[0;34m.\u001b[0m\u001b[0mzeros\u001b[0m\u001b[0;34m(\u001b[0m\u001b[0;34m(\u001b[0m\u001b[0msmat\u001b[0m\u001b[0;34m[\u001b[0m\u001b[0;36m1\u001b[0m\u001b[0;34m]\u001b[0m\u001b[0;34m,\u001b[0m \u001b[0msmat\u001b[0m\u001b[0;34m[\u001b[0m\u001b[0;36m2\u001b[0m\u001b[0;34m]\u001b[0m\u001b[0;34m)\u001b[0m\u001b[0;34m,\u001b[0m \u001b[0mdtype\u001b[0m\u001b[0;34m=\u001b[0m\u001b[0mint\u001b[0m\u001b[0;34m)\u001b[0m\u001b[0;34m\u001b[0m\u001b[0;34m\u001b[0m\u001b[0m\n\u001b[1;32m    303\u001b[0m         \u001b[0;32mfor\u001b[0m \u001b[0mid_\u001b[0m \u001b[0;32min\u001b[0m \u001b[0mrange\u001b[0m\u001b[0;34m(\u001b[0m\u001b[0msmat\u001b[0m\u001b[0;34m[\u001b[0m\u001b[0;36m0\u001b[0m\u001b[0;34m]\u001b[0m\u001b[0;34m)\u001b[0m\u001b[0;34m:\u001b[0m\u001b[0;34m\u001b[0m\u001b[0;34m\u001b[0m\u001b[0m\n\u001b[0;32m--> 304\u001b[0;31m             \u001b[0mcur\u001b[0m\u001b[0;34m.\u001b[0m\u001b[0mexecute\u001b[0m\u001b[0;34m(\u001b[0m\u001b[0;34m\"insert into counts (id, arr) values (?, ?)\"\u001b[0m\u001b[0;34m,\u001b[0m \u001b[0;34m(\u001b[0m\u001b[0mid_\u001b[0m\u001b[0;34m,\u001b[0m \u001b[0mz_a\u001b[0m\u001b[0;34m,\u001b[0m\u001b[0;34m)\u001b[0m\u001b[0;34m)\u001b[0m\u001b[0;34m\u001b[0m\u001b[0;34m\u001b[0m\u001b[0m\n\u001b[0m\u001b[1;32m    305\u001b[0m \u001b[0;34m\u001b[0m\u001b[0m\n\u001b[1;32m    306\u001b[0m         \u001b[0mcon\u001b[0m\u001b[0;34m.\u001b[0m\u001b[0mcommit\u001b[0m\u001b[0;34m(\u001b[0m\u001b[0;34m)\u001b[0m\u001b[0;34m\u001b[0m\u001b[0;34m\u001b[0m\u001b[0m\n",
      "\u001b[0;31mOperationalError\u001b[0m: database or disk is full"
     ]
    }
   ],
   "source": [
    "db = simcat.Database(\"tutorial\",\n",
    "                'tutorial_data/',\n",
    "                tree,\n",
    "                nrows=500,\n",
    "                nsnps=5000,\n",
    "                Ne_min=10000, # how much should Ne vary on the branches?\n",
    "                Ne_max=50000,\n",
    "                admix_prop_min=0.3, # how much should the magnitude of admixture event vary?\n",
    "                admix_prop_max=0.5,\n",
    "                admix_edge_min=0.5, # how much should the timing of admixture event vary?\n",
    "                admix_edge_max=0.5,\n",
    "                exclude_sisters=True, # do we want to include introgression between sister taxa?\n",
    "                node_slide_prop=0.1, # how much do we want internal nodes to shift around?\n",
    "                existing_admix_edges=[],) # do we want to assume any existing edges?"
   ]
  },
  {
   "cell_type": "markdown",
   "metadata": {},
   "source": [
    "### Fill the empty database with simulations"
   ]
  },
  {
   "cell_type": "code",
   "execution_count": null,
   "metadata": {
    "scrolled": true
   },
   "outputs": [],
   "source": [
    "simulator = simcat.Simulator(\"tutorial\",\"tutorial_data/\")  # inits the simulator\n",
    "simulator.run(500,auto=True) # runs as many simulations as we specify, automatically detects available cores"
   ]
  },
  {
   "cell_type": "markdown",
   "metadata": {},
   "source": [
    "## 2) Model Training"
   ]
  },
  {
   "cell_type": "markdown",
   "metadata": {},
   "source": [
    "### Imports"
   ]
  },
  {
   "cell_type": "code",
   "execution_count": null,
   "metadata": {},
   "outputs": [],
   "source": [
    "# training automation\n",
    "from simcat import BatchTrain\n",
    "# for defining the model\n",
    "from keras.models import Sequential, load_model\n",
    "from keras.layers import Dense"
   ]
  },
  {
   "cell_type": "markdown",
   "metadata": {},
   "source": [
    "#### Define the parameters for training:\n",
    "\n",
    "* Where is the data?\n",
    "* What do want to name the outputs?\n",
    "* What proportion do we want to split into training vs. testing?\n",
    "* Do we want to exclude scenarios with introgression between sister taxa?\n",
    "* Do we want to exclude scenarios where introgression is really low?\n",
    "* Do we want to make a \"zero\" category that includes all remaining simulations with magnitude under some number?"
   ]
  },
  {
   "cell_type": "code",
   "execution_count": null,
   "metadata": {},
   "outputs": [],
   "source": [
    "tutorial_model = BatchTrain(input_name='tutorial', # use the name of the training database\n",
    "                    output_name='tutorial_model', # this is the name for model-related files\n",
    "                    directory='tutorial_data/', # point to the same directory as training database\n",
    "                    prop_training=0.9, # how much of the data should be used for training (vs testing)?\n",
    "                    exclude_sisters=True, # do we want to exclude any sister-taxon introgression scenarios?\n",
    "                    exclude_magnitude=0.1, # do we want to exclude events below a certain magnitude?\n",
    "                    to_zero_magnitude=0, # do we want to label events below a certain magnitude as \"zero\"?\n",
    "                   )"
   ]
  },
  {
   "cell_type": "markdown",
   "metadata": {},
   "source": [
    "#### An \"analysis.h5\" file has been saved as output. It contains indices for simulations in the training vs testing dataset, as well as some metadata about the training. \n",
    "#### A \"onehot_dict.csv\" file has also been saved, to convert between integer codes and the literal string labels."
   ]
  },
  {
   "cell_type": "markdown",
   "metadata": {},
   "source": [
    "### Define a neural network"
   ]
  },
  {
   "cell_type": "code",
   "execution_count": null,
   "metadata": {},
   "outputs": [],
   "source": [
    "# Neural network architecture defined with Keras tools\n",
    "model = Sequential()\n",
    "model.add(Dense(100, input_dim=tutorial_model.input_shape, activation='relu'))\n",
    "model.add(Dense(tutorial_model.num_classes, activation='softmax'))\n",
    "model.compile(loss='categorical_crossentropy', optimizer='adam', metrics=['accuracy'])"
   ]
  },
  {
   "cell_type": "markdown",
   "metadata": {},
   "source": [
    "### Initialize the network model for the BatchTrain object -- which will also save the model as a file"
   ]
  },
  {
   "cell_type": "code",
   "execution_count": null,
   "metadata": {},
   "outputs": [],
   "source": [
    "tutorial_model.init_model(model)"
   ]
  },
  {
   "cell_type": "markdown",
   "metadata": {},
   "source": [
    "### Now designate the batch size and the number of epochs, and train!"
   ]
  },
  {
   "cell_type": "code",
   "execution_count": null,
   "metadata": {
    "scrolled": true
   },
   "outputs": [],
   "source": [
    "tutorial_model.train(batch_size=10,\n",
    "             num_epochs=5)"
   ]
  },
  {
   "cell_type": "markdown",
   "metadata": {},
   "source": [
    "#### The model is automatically saved to disk after each epoch."
   ]
  },
  {
   "cell_type": "markdown",
   "metadata": {},
   "source": [
    "## 3) Model application"
   ]
  },
  {
   "cell_type": "markdown",
   "metadata": {},
   "source": [
    "#### We would normally have empicial data -- but here we will simulate some sequence data with introgression from branch 0 to branch 3."
   ]
  },
  {
   "cell_type": "code",
   "execution_count": null,
   "metadata": {},
   "outputs": [],
   "source": [
    "dat_mod = ipcoal.Model(tree,admixture_edges=[(0,3,.5,.4)])"
   ]
  },
  {
   "cell_type": "code",
   "execution_count": null,
   "metadata": {},
   "outputs": [],
   "source": [
    "# simulate an alignment of 5000 SNPs\n",
    "dat_mod.sim_snps(5000)"
   ]
  },
  {
   "cell_type": "markdown",
   "metadata": {},
   "source": [
    "#### Here is our SNP alignment -- an array of (ntaxa x nsnps)"
   ]
  },
  {
   "cell_type": "code",
   "execution_count": null,
   "metadata": {},
   "outputs": [],
   "source": [
    "dat_mod.seqs"
   ]
  },
  {
   "cell_type": "code",
   "execution_count": null,
   "metadata": {},
   "outputs": [],
   "source": [
    "# the rows of the SNP alignment correspond to the alphanumeric ordering of the tree's tip names\n",
    "dat_mod.alpha_ordered_names"
   ]
  },
  {
   "cell_type": "markdown",
   "metadata": {},
   "source": [
    "#### Now we can load the model:"
   ]
  },
  {
   "cell_type": "code",
   "execution_count": null,
   "metadata": {},
   "outputs": [],
   "source": [
    "# specify the object once again, but indicate that it already exists\n",
    "tutorial_model = BatchTrain(input_name='tutorial',\n",
    "                    output_name='tutorial_model',\n",
    "                    directory='tutorial_data/',\n",
    "                    exists=True, # specifies that the saved model already exists\n",
    "                   )\n",
    "# load the keras model into the object\n",
    "tutorial_model.load_model()"
   ]
  },
  {
   "cell_type": "code",
   "execution_count": null,
   "metadata": {
    "scrolled": true
   },
   "outputs": [],
   "source": [
    "# pass our sequence data to the model to get a prediction\n",
    "tutorial_model.pass_alignment_to_model(dat_mod.seqs)"
   ]
  }
 ],
 "metadata": {
  "kernelspec": {
   "display_name": "Python 3",
   "language": "python",
   "name": "python3"
  },
  "language_info": {
   "codemirror_mode": {
    "name": "ipython",
    "version": 3
   },
   "file_extension": ".py",
   "mimetype": "text/x-python",
   "name": "python",
   "nbconvert_exporter": "python",
   "pygments_lexer": "ipython3",
   "version": "3.6.7"
  }
 },
 "nbformat": 4,
 "nbformat_minor": 2
}
