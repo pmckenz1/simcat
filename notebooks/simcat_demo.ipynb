{
 "cells": [
  {
   "cell_type": "markdown",
   "id": "5267fa40-7465-4e5e-9875-f076486ec031",
   "metadata": {},
   "source": [
    "# Simcat demonstration"
   ]
  },
  {
   "cell_type": "markdown",
   "id": "be3154ab-f8bc-4696-b471-80b61578b788",
   "metadata": {},
   "source": [
    "### Imports"
   ]
  },
  {
   "cell_type": "code",
   "execution_count": 1,
   "id": "d8e680c4-3746-4963-8944-23ffcbf0e8ba",
   "metadata": {},
   "outputs": [
    {
     "name": "stderr",
     "output_type": "stream",
     "text": [
      "<frozen importlib._bootstrap>:219: RuntimeWarning: scipy._lib.messagestream.MessageStream size changed, may indicate binary incompatibility. Expected 56 from C header, got 64 from PyObject\n",
      "2023-02-25 19:08:51.466489: W tensorflow/stream_executor/platform/default/dso_loader.cc:64] Could not load dynamic library 'libcudart.so.11.0'; dlerror: libcudart.so.11.0: cannot open shared object file: No such file or directory; LD_LIBRARY_PATH: /cm/shared/apps/slurm/20.11.9/lib64/slurm:/cm/shared/apps/slurm/20.11.9/lib64\n",
      "2023-02-25 19:08:51.466537: I tensorflow/stream_executor/cuda/cudart_stub.cc:29] Ignore above cudart dlerror if you do not have a GPU set up on your machine.\n"
     ]
    }
   ],
   "source": [
    "import simcat\n",
    "import toytree\n",
    "import os"
   ]
  },
  {
   "cell_type": "markdown",
   "id": "3cc95281-2fe9-4ac4-b004-280b5218150f",
   "metadata": {},
   "source": [
    "### Designate directory for holding results"
   ]
  },
  {
   "cell_type": "code",
   "execution_count": 2,
   "id": "fc3ac283-0319-45f8-96e0-f4007679d13d",
   "metadata": {},
   "outputs": [],
   "source": [
    "# get current working directory\n",
    "cwd = os.getcwd()\n",
    "# assign a name to our simcat run\n",
    "name = \"simcat_demo\"\n",
    "# make a repo to hold the results\n",
    "db_path = os.path.join(cwd,name)\n",
    "os.mkdir(db_path)"
   ]
  },
  {
   "cell_type": "code",
   "execution_count": 3,
   "id": "0f84e07a-05f4-4c0a-95ca-cd4068aa217f",
   "metadata": {},
   "outputs": [
    {
     "data": {
      "text/plain": [
       "'/moto/eaton/users/pfm2119/projects/simcatfinalizing/simcat_demo'"
      ]
     },
     "execution_count": 3,
     "metadata": {},
     "output_type": "execute_result"
    }
   ],
   "source": [
    "db_path"
   ]
  },
  {
   "cell_type": "markdown",
   "id": "7db39ab9-87ba-4f9b-bc92-cbad5ee05c06",
   "metadata": {},
   "source": [
    "### Provide our starting species tree"
   ]
  },
  {
   "cell_type": "code",
   "execution_count": 4,
   "id": "7f1a1675-a59c-4520-b2de-6ba4887ed840",
   "metadata": {},
   "outputs": [],
   "source": [
    "t = toytree.rtree.imbtree(5,treeheight=5e6)"
   ]
  },
  {
   "cell_type": "markdown",
   "id": "5c2829e7-5a2f-470d-8ff8-dbba2e068d34",
   "metadata": {},
   "source": [
    "### Create the empty database"
   ]
  },
  {
   "cell_type": "code",
   "execution_count": 5,
   "id": "9bed5a5e-a7d1-4947-aef3-02cdc4777469",
   "metadata": {},
   "outputs": [
    {
     "name": "stdout",
     "output_type": "stream",
     "text": [
      "10000 labels to be stored in: ../simcatfinalizing/simcat_demo/simcat_demo.labels.h5\n"
     ]
    }
   ],
   "source": [
    "db = simcat.Database(name,\n",
    "                db_path,\n",
    "                t,\n",
    "                nrows=10_000, # how many total entries (training + test) to simulate?\n",
    "                nsnps=5_000, # how many unlinked SNPs per entry?\n",
    "                Ne_min=50_000, # how much should Ne vary on the branches?\n",
    "                Ne_max=150_000,\n",
    "                admix_prop_min=0.3, # how much should the magnitude of admixture event vary?\n",
    "                admix_prop_max=0.4,\n",
    "                admix_edge_min=0.3, # how much should the timing of admixture event vary?\n",
    "                admix_edge_max=0.7,\n",
    "                exclude_sisters=True, # do we want to exclude introgression between sister taxa?\n",
    "                node_slide_prop=0.9, # how much do we want internal nodes to shift around?\n",
    "                existing_admix_edges=[],) # do we want to assume any existing edges?"
   ]
  },
  {
   "cell_type": "markdown",
   "id": "4ff04f20-ce73-401d-b142-d957918b53f6",
   "metadata": {},
   "source": [
    "# Simulating"
   ]
  },
  {
   "cell_type": "markdown",
   "id": "f05e67cf-4a91-43a6-83f8-18004ba62476",
   "metadata": {},
   "source": [
    "### (Fill the database)"
   ]
  },
  {
   "cell_type": "code",
   "execution_count": 6,
   "id": "3fbc9124-7743-4a66-b367-d33cd7a04d59",
   "metadata": {},
   "outputs": [
    {
     "data": {
      "application/vnd.jupyter.widget-view+json": {
       "model_id": "",
       "version_major": 2,
       "version_minor": 0
      },
      "text/plain": [
       "Box(children=(HTML(value=\"<span style='font-size:14px; font-family:monospace'>Establishing parallel connection…"
      ]
     },
     "metadata": {},
     "output_type": "display_data"
    },
    {
     "data": {
      "application/vnd.jupyter.widget-view+json": {
       "model_id": "",
       "version_major": 2,
       "version_minor": 0
      },
      "text/plain": [
       "Box(children=(HTML(value=\"<span style='font-size:14px; font-family:monospace'>Parallelization: <i>t083</i>: 24…"
      ]
     },
     "metadata": {},
     "output_type": "display_data"
    },
    {
     "name": "stdout",
     "output_type": "stream",
     "text": [
      "completed 10000 simulations in 5:13:09.\n"
     ]
    }
   ],
   "source": [
    "simulator = simcat.Simulator(name,db_path)  # inits the simulator\n",
    "simulator.run(10_000,auto=True) # runs as many simulations as we specify, automatically detects available cores"
   ]
  },
  {
   "cell_type": "markdown",
   "id": "7bad7c50-83e7-4121-85c2-dbb56d174bf2",
   "metadata": {},
   "source": [
    "# Training"
   ]
  },
  {
   "cell_type": "markdown",
   "id": "048628af-9382-4bf7-9b65-8ef98826e7db",
   "metadata": {},
   "source": [
    "### Start a new model in the same directory as before"
   ]
  },
  {
   "cell_type": "code",
   "execution_count": 7,
   "id": "30c9cc17-49ef-4d0a-b6d1-c86e9c2c7082",
   "metadata": {},
   "outputs": [
    {
     "name": "stdout",
     "output_type": "stream",
     "text": [
      "10000 total simulations.\n",
      "10000 total simulations compatible with parameters.\n",
      "Data split into 9500 training and 500 testing simulations.\n",
      "\n",
      "Onehot dictionary file saved to /moto/eaton/users/pfm2119/projects/simcatfinalizing/simcat_demo/simcat_demo.onehot_dict.csv\n",
      "\n",
      "Analysis reference file saved to /moto/eaton/users/pfm2119/projects/simcatfinalizing/simcat_demo/simcat_demo.analysis.h5\n"
     ]
    }
   ],
   "source": [
    "mod = simcat.BatchTrain(input_name=name, # use the name of the training database\n",
    "                    output_name=name, # this is the name for model-related files\n",
    "                    directory=db_path, # point to the same directory as training database\n",
    "                    prop_training=0.95, # how much of the data should be used for training (vs testing)?\n",
    "                    exclude_sisters=True, # do we want to exclude any sister-taxon introgression scenarios?\n",
    "                    exclude_magnitude=0, # do we want to exclude events below a certain magnitude?\n",
    "                    to_zero_magnitude=0, # do we want to label events below a certain magnitude as \"zero\"?\n",
    "                   )"
   ]
  },
  {
   "cell_type": "markdown",
   "id": "2a286066-4a7f-4832-a56f-ffe87afea64a",
   "metadata": {},
   "source": [
    "### Load the model into the notebook"
   ]
  },
  {
   "cell_type": "code",
   "execution_count": 8,
   "id": "0b241122-c2b5-4f5a-be37-948ffdd79cbf",
   "metadata": {},
   "outputs": [
    {
     "name": "stderr",
     "output_type": "stream",
     "text": [
      "2023-02-25 14:24:16.509151: W tensorflow/stream_executor/platform/default/dso_loader.cc:64] Could not load dynamic library 'libcuda.so.1'; dlerror: libcuda.so.1: cannot open shared object file: No such file or directory; LD_LIBRARY_PATH: /cm/shared/apps/slurm/20.11.9/lib64/slurm:/cm/shared/apps/slurm/20.11.9/lib64\n",
      "2023-02-25 14:24:16.509252: W tensorflow/stream_executor/cuda/cuda_driver.cc:326] failed call to cuInit: UNKNOWN ERROR (303)\n",
      "2023-02-25 14:24:16.509296: I tensorflow/stream_executor/cuda/cuda_diagnostics.cc:156] kernel driver does not appear to be running on this host (t083): /proc/driver/nvidia/version does not exist\n",
      "2023-02-25 14:24:16.510060: I tensorflow/core/platform/cpu_feature_guard.cc:142] This TensorFlow binary is optimized with oneAPI Deep Neural Network Library (oneDNN) to use the following CPU instructions in performance-critical operations:  AVX2 AVX512F FMA\n",
      "To enable them in other operations, rebuild TensorFlow with the appropriate compiler flags.\n"
     ]
    },
    {
     "name": "stdout",
     "output_type": "stream",
     "text": [
      "New neural network saved to: /moto/eaton/users/pfm2119/projects/simcatfinalizing/simcat_demo/simcat_demo.model.h5\n"
     ]
    }
   ],
   "source": [
    "mod.load_model()"
   ]
  },
  {
   "cell_type": "markdown",
   "id": "5ea6a23a-0e34-4dec-8429-50edfb0ed553",
   "metadata": {},
   "source": [
    "### Train the model"
   ]
  },
  {
   "cell_type": "code",
   "execution_count": 9,
   "id": "104fe862-40b2-4d63-b111-6cd05f132d2b",
   "metadata": {},
   "outputs": [
    {
     "name": "stderr",
     "output_type": "stream",
     "text": [
      "2023-02-25 14:24:19.419741: I tensorflow/compiler/mlir/mlir_graph_optimization_pass.cc:176] None of the MLIR Optimization Passes are enabled (registered 2)\n",
      "2023-02-25 14:24:19.432194: I tensorflow/core/platform/profile_utils/cpu_utils.cc:114] CPU Frequency: 2600000000 Hz\n"
     ]
    },
    {
     "name": "stdout",
     "output_type": "stream",
     "text": [
      "475/475 [==============================] - 12s 20ms/step - loss: 2.5936 - accuracy: 0.3258 - val_loss: 1.8215 - val_accuracy: 0.5400\n",
      "475/475 [==============================] - 10s 20ms/step - loss: 1.5056 - accuracy: 0.5843 - val_loss: 1.2300 - val_accuracy: 0.6400\n",
      "475/475 [==============================] - 9s 19ms/step - loss: 1.1137 - accuracy: 0.6851 - val_loss: 0.9774 - val_accuracy: 0.7420\n",
      "475/475 [==============================] - 9s 19ms/step - loss: 0.9131 - accuracy: 0.7431 - val_loss: 0.8248 - val_accuracy: 0.7380\n",
      "475/475 [==============================] - 9s 19ms/step - loss: 0.7823 - accuracy: 0.7707 - val_loss: 0.7135 - val_accuracy: 0.7960\n",
      "475/475 [==============================] - 9s 20ms/step - loss: 0.6882 - accuracy: 0.8097 - val_loss: 0.6415 - val_accuracy: 0.8180\n",
      "475/475 [==============================] - 9s 20ms/step - loss: 0.6164 - accuracy: 0.8263 - val_loss: 0.5769 - val_accuracy: 0.8400\n",
      "475/475 [==============================] - 9s 19ms/step - loss: 0.5569 - accuracy: 0.8423 - val_loss: 0.5316 - val_accuracy: 0.8460\n",
      "475/475 [==============================] - 9s 19ms/step - loss: 0.5105 - accuracy: 0.8547 - val_loss: 0.4909 - val_accuracy: 0.8540\n",
      "475/475 [==============================] - 9s 19ms/step - loss: 0.4702 - accuracy: 0.8677 - val_loss: 0.4525 - val_accuracy: 0.8740\n",
      "475/475 [==============================] - 10s 20ms/step - loss: 0.4368 - accuracy: 0.8746 - val_loss: 0.4287 - val_accuracy: 0.8500\n",
      "475/475 [==============================] - 10s 20ms/step - loss: 0.4080 - accuracy: 0.8813 - val_loss: 0.3908 - val_accuracy: 0.8940\n",
      "475/475 [==============================] - 10s 20ms/step - loss: 0.3843 - accuracy: 0.8889 - val_loss: 0.3729 - val_accuracy: 0.8920\n",
      "475/475 [==============================] - 10s 21ms/step - loss: 0.3601 - accuracy: 0.8956 - val_loss: 0.3519 - val_accuracy: 0.8940\n",
      "475/475 [==============================] - 10s 20ms/step - loss: 0.3413 - accuracy: 0.8995 - val_loss: 0.3482 - val_accuracy: 0.8900\n",
      "475/475 [==============================] - 10s 20ms/step - loss: 0.3275 - accuracy: 0.8998 - val_loss: 0.3219 - val_accuracy: 0.8940\n",
      "475/475 [==============================] - 10s 20ms/step - loss: 0.3125 - accuracy: 0.9055 - val_loss: 0.3276 - val_accuracy: 0.8940\n",
      "475/475 [==============================] - 9s 19ms/step - loss: 0.3015 - accuracy: 0.9045 - val_loss: 0.3162 - val_accuracy: 0.8820\n",
      "475/475 [==============================] - 10s 20ms/step - loss: 0.2897 - accuracy: 0.9079 - val_loss: 0.2960 - val_accuracy: 0.8960\n",
      "475/475 [==============================] - 9s 19ms/step - loss: 0.2785 - accuracy: 0.9104 - val_loss: 0.2782 - val_accuracy: 0.9120\n",
      "475/475 [==============================] - 9s 19ms/step - loss: 0.2706 - accuracy: 0.9158 - val_loss: 0.2866 - val_accuracy: 0.8940\n",
      "475/475 [==============================] - 9s 19ms/step - loss: 0.2626 - accuracy: 0.9146 - val_loss: 0.2649 - val_accuracy: 0.9140\n",
      "475/475 [==============================] - 9s 20ms/step - loss: 0.2540 - accuracy: 0.9160 - val_loss: 0.2665 - val_accuracy: 0.9100\n",
      "475/475 [==============================] - 10s 20ms/step - loss: 0.2474 - accuracy: 0.9184 - val_loss: 0.2551 - val_accuracy: 0.9040\n",
      "475/475 [==============================] - 9s 19ms/step - loss: 0.2426 - accuracy: 0.9184 - val_loss: 0.2579 - val_accuracy: 0.9140\n"
     ]
    }
   ],
   "source": [
    "mod.train(batch_size=20,num_epochs=25,workers=8)"
   ]
  },
  {
   "cell_type": "markdown",
   "id": "84d431d0-d518-4d33-8675-b87773bca162",
   "metadata": {},
   "source": [
    "# Give it simulated data and infer source and destination branch"
   ]
  },
  {
   "cell_type": "code",
   "execution_count": 10,
   "id": "9d9c0ddc-581a-4607-a7d7-ccb8b9d8d65d",
   "metadata": {},
   "outputs": [],
   "source": [
    "# software for simulating data\n",
    "import ipcoal"
   ]
  },
  {
   "cell_type": "code",
   "execution_count": 11,
   "id": "18c6728f-d7bd-42f3-99ea-fd13292f6349",
   "metadata": {},
   "outputs": [
    {
     "data": {
      "text/html": [
       "<div class=\"toyplot\" id=\"t52551a413ea04312b1b72f6eada7fafa\" style=\"text-align:center\"><svg class=\"toyplot-canvas-Canvas\" xmlns:toyplot=\"http://www.sandia.gov/toyplot\" xmlns:xlink=\"http://www.w3.org/1999/xlink\" xmlns=\"http://www.w3.org/2000/svg\" width=\"350.0px\" height=\"260.0px\" viewBox=\"0 0 350.0 260.0\" preserveAspectRatio=\"xMidYMid meet\" style=\"background-color:transparent;border-color:#292724;border-style:none;border-width:1.0;fill:rgb(16.1%,15.3%,14.1%);fill-opacity:1.0;font-family:Helvetica;font-size:12px;opacity:1.0;stroke:rgb(16.1%,15.3%,14.1%);stroke-opacity:1.0;stroke-width:1.0\" id=\"tce9ee236bbe04c5cb9b59096d229cf90\"><g class=\"toyplot-coordinates-Cartesian\" id=\"t76a504ab0a5d4fd1a81eff22626b5c8f\"><clipPath id=\"tff7767eb71d743f6909ed8b8c1e190b0\"><rect x=\"35.0\" y=\"35.0\" width=\"280.0\" height=\"190.0\"></rect></clipPath><g clip-path=\"url(#tff7767eb71d743f6909ed8b8c1e190b0)\"><g class=\"toytree-mark-Toytree\" id=\"t98c23e3c8f24422f904126c4b3fcb9ce\"><g class=\"toytree-Edges\" style=\"fill:none;stroke:rgba(16.1%,15.3%,14.1%,1.000);stroke-linecap:round;stroke-width:2.0\"><path d=\"M 86.6 144.0 L 57.1 173.5\" id=\"5,0\" style=\"stroke-width:2.0\"></path><path d=\"M 86.6 144.0 L 116.0 173.5\" id=\"5,1\" style=\"stroke-width:2.0\"></path><path d=\"M 130.8 114.5 L 175.0 173.5\" id=\"6,2\" style=\"stroke-width:2.0\"></path><path d=\"M 182.4 85.0 L 234.0 173.5\" id=\"7,3\" style=\"stroke-width:2.0\"></path><path d=\"M 237.6 55.5 L 292.9 173.5\" id=\"8,4\" style=\"stroke-width:2.0\"></path><path d=\"M 130.8 114.5 L 86.6 144.0\" id=\"6,5\" style=\"stroke-width:2.0\"></path><path d=\"M 182.4 85.0 L 130.8 114.5\" id=\"7,6\" style=\"stroke-width:2.0\"></path><path d=\"M 237.6 55.5 L 182.4 85.0\" id=\"8,7\" style=\"stroke-width:2.0\"></path></g><g class=\"toytree-Nodes\" style=\"fill:rgba(40.0%,76.1%,64.7%,1.000);stroke:#262626;stroke-width:1.0\"><g id=\"node-0\" transform=\"translate(57.075,173.469)\"><circle r=\"7.5\"></circle></g><g id=\"node-1\" transform=\"translate(116.038,173.469)\"><circle r=\"7.5\"></circle></g><g id=\"node-2\" transform=\"translate(175.000,173.469)\"><circle r=\"7.5\"></circle></g><g id=\"node-3\" transform=\"translate(233.962,173.469)\"><circle r=\"7.5\"></circle></g><g id=\"node-4\" transform=\"translate(292.925,173.469)\"><circle r=\"7.5\"></circle></g><g id=\"node-5\" transform=\"translate(86.557,143.984)\"><circle r=\"7.5\"></circle></g><g id=\"node-6\" transform=\"translate(130.778,114.499)\"><circle r=\"7.5\"></circle></g><g id=\"node-7\" transform=\"translate(182.370,85.014)\"><circle r=\"7.5\"></circle></g><g id=\"node-8\" transform=\"translate(237.647,55.528)\"><circle r=\"7.5\"></circle></g></g><g class=\"toytree-NodeLabels\" style=\"font-family:Helvetica;font-size:9.0px;font-weight:300;stroke:none;vertical-align:baseline;white-space:pre\"><g class=\"toytree-NodeLabel\" transform=\"translate(57.075471698113205,173.46930313556743)\"><text x=\"-2.5020000000000002\" y=\"2.2995\" style=\"fill:rgb(16.1%,15.3%,14.1%);fill-opacity:1.0\">0</text></g><g class=\"toytree-NodeLabel\" transform=\"translate(116.0377358490566,173.46930313556743)\"><text x=\"-2.5020000000000002\" y=\"2.2995\" style=\"fill:rgb(16.1%,15.3%,14.1%);fill-opacity:1.0\">1</text></g><g class=\"toytree-NodeLabel\" transform=\"translate(175.0,173.46930313556743)\"><text x=\"-2.5020000000000002\" y=\"2.2995\" style=\"fill:rgb(16.1%,15.3%,14.1%);fill-opacity:1.0\">2</text></g><g class=\"toytree-NodeLabel\" transform=\"translate(233.96226415094338,173.46930313556743)\"><text x=\"-2.5020000000000002\" y=\"2.2995\" style=\"fill:rgb(16.1%,15.3%,14.1%);fill-opacity:1.0\">3</text></g><g class=\"toytree-NodeLabel\" transform=\"translate(292.9245283018868,173.46930313556743)\"><text x=\"-2.5020000000000002\" y=\"2.2995\" style=\"fill:rgb(16.1%,15.3%,14.1%);fill-opacity:1.0\">4</text></g><g class=\"toytree-NodeLabel\" transform=\"translate(86.5566037735849,143.98409641662596)\"><text x=\"-2.5020000000000002\" y=\"2.2995\" style=\"fill:rgb(16.1%,15.3%,14.1%);fill-opacity:1.0\">5</text></g><g class=\"toytree-NodeLabel\" transform=\"translate(130.77830188679246,114.49888969768448)\"><text x=\"-2.5020000000000002\" y=\"2.2995\" style=\"fill:rgb(16.1%,15.3%,14.1%);fill-opacity:1.0\">6</text></g><g class=\"toytree-NodeLabel\" transform=\"translate(182.3702830188679,85.013682978743)\"><text x=\"-2.5020000000000002\" y=\"2.2995\" style=\"fill:rgb(16.1%,15.3%,14.1%);fill-opacity:1.0\">7</text></g><g class=\"toytree-NodeLabel\" transform=\"translate(237.64740566037736,55.52847625980153)\"><text x=\"-2.5020000000000002\" y=\"2.2995\" style=\"fill:rgb(16.1%,15.3%,14.1%);fill-opacity:1.0\">8</text></g></g><g class=\"toytree-TipLabels\" style=\"fill:rgb(16.1%,15.3%,14.1%);fill-opacity:1.0;font-family:Helvetica;font-size:11.0px;font-weight:300;stroke:none;vertical-align:baseline;white-space:pre\"><g class=\"toytree-TipLabel\" transform=\"translate(57.075471698113205,173.46930313556743)rotate(90.0)\"><text x=\"15.0\" y=\"2.8104999999999993\" style=\"\">r0</text></g><g class=\"toytree-TipLabel\" transform=\"translate(116.0377358490566,173.46930313556743)rotate(90.0)\"><text x=\"15.0\" y=\"2.8104999999999993\" style=\"\">r1</text></g><g class=\"toytree-TipLabel\" transform=\"translate(175.0,173.46930313556743)rotate(90.0)\"><text x=\"15.0\" y=\"2.8104999999999993\" style=\"\">r2</text></g><g class=\"toytree-TipLabel\" transform=\"translate(233.96226415094338,173.46930313556743)rotate(90.0)\"><text x=\"15.0\" y=\"2.8104999999999993\" style=\"\">r3</text></g><g class=\"toytree-TipLabel\" transform=\"translate(292.9245283018868,173.46930313556743)rotate(90.0)\"><text x=\"15.0\" y=\"2.8104999999999993\" style=\"\">r4</text></g></g></g></g><g class=\"toyplot-coordinates-Axis\" id=\"t036185f83cb14be8bb0db07b8f597e2e\" transform=\"translate(50.0,210.0)rotate(-90.0)translate(0,-15.0)\"><line x1=\"36.53069686443254\" y1=\"0\" x2=\"154.47152374019848\" y2=\"0\" style=\"\"></line><g><line x1=\"36.53069686443254\" y1=\"0\" x2=\"36.53069686443254\" y2=\"5\" style=\"\"></line><line x1=\"95.50111030231551\" y1=\"0\" x2=\"95.50111030231551\" y2=\"5\" style=\"\"></line><line x1=\"154.47152374019848\" y1=\"0\" x2=\"154.47152374019848\" y2=\"5\" style=\"\"></line></g><g><g transform=\"translate(36.53069686443254,-6)\"><text x=\"-2.78\" y=\"-4.440892098500626e-16\" style=\"fill:rgb(16.1%,15.3%,14.1%);fill-opacity:1.0;font-family:helvetica;font-size:10.0px;font-weight:normal;stroke:none;vertical-align:baseline;white-space:pre\">0</text></g><g transform=\"translate(95.50111030231551,-6)\"><text x=\"-19.459999999999997\" y=\"-4.440892098500626e-16\" style=\"fill:rgb(16.1%,15.3%,14.1%);fill-opacity:1.0;font-family:helvetica;font-size:10.0px;font-weight:normal;stroke:none;vertical-align:baseline;white-space:pre\">2500000</text></g><g transform=\"translate(154.47152374019848,-6)\"><text x=\"-19.459999999999997\" y=\"-4.440892098500626e-16\" style=\"fill:rgb(16.1%,15.3%,14.1%);fill-opacity:1.0;font-family:helvetica;font-size:10.0px;font-weight:normal;stroke:none;vertical-align:baseline;white-space:pre\">5000000</text></g></g><g class=\"toyplot-coordinates-Axis-coordinates\" style=\"visibility:hidden\" transform=\"\"><line x1=\"0\" x2=\"0\" y1=\"3.0\" y2=\"-4.5\" style=\"stroke:rgb(43.9%,50.2%,56.5%);stroke-opacity:1.0;stroke-width:1.0\"></line><text x=\"0\" y=\"6\" style=\"alignment-baseline:hanging;fill:rgb(43.9%,50.2%,56.5%);fill-opacity:1.0;font-size:10px;font-weight:normal;stroke:none;text-anchor:middle\"></text></g></g></g></svg><div class=\"toyplot-behavior\"><script>(function()\n",
       "{\n",
       "var modules={};\n",
       "modules[\"toyplot/canvas/id\"] = \"tce9ee236bbe04c5cb9b59096d229cf90\";\n",
       "modules[\"toyplot/canvas\"] = (function(canvas_id)\n",
       "    {\n",
       "        return document.querySelector(\"#\" + canvas_id);\n",
       "    })(modules[\"toyplot/canvas/id\"]);\n",
       "modules[\"toyplot.coordinates.Axis\"] = (\n",
       "        function(canvas)\n",
       "        {\n",
       "            function sign(x)\n",
       "            {\n",
       "                return x < 0 ? -1 : x > 0 ? 1 : 0;\n",
       "            }\n",
       "\n",
       "            function mix(a, b, amount)\n",
       "            {\n",
       "                return ((1.0 - amount) * a) + (amount * b);\n",
       "            }\n",
       "\n",
       "            function log(x, base)\n",
       "            {\n",
       "                return Math.log(Math.abs(x)) / Math.log(base);\n",
       "            }\n",
       "\n",
       "            function in_range(a, x, b)\n",
       "            {\n",
       "                var left = Math.min(a, b);\n",
       "                var right = Math.max(a, b);\n",
       "                return left <= x && x <= right;\n",
       "            }\n",
       "\n",
       "            function inside(range, projection)\n",
       "            {\n",
       "                for(var i = 0; i != projection.length; ++i)\n",
       "                {\n",
       "                    var segment = projection[i];\n",
       "                    if(in_range(segment.range.min, range, segment.range.max))\n",
       "                        return true;\n",
       "                }\n",
       "                return false;\n",
       "            }\n",
       "\n",
       "            function to_domain(range, projection)\n",
       "            {\n",
       "                for(var i = 0; i != projection.length; ++i)\n",
       "                {\n",
       "                    var segment = projection[i];\n",
       "                    if(in_range(segment.range.bounds.min, range, segment.range.bounds.max))\n",
       "                    {\n",
       "                        if(segment.scale == \"linear\")\n",
       "                        {\n",
       "                            var amount = (range - segment.range.min) / (segment.range.max - segment.range.min);\n",
       "                            return mix(segment.domain.min, segment.domain.max, amount)\n",
       "                        }\n",
       "                        else if(segment.scale[0] == \"log\")\n",
       "                        {\n",
       "                            var amount = (range - segment.range.min) / (segment.range.max - segment.range.min);\n",
       "                            var base = segment.scale[1];\n",
       "                            return sign(segment.domain.min) * Math.pow(base, mix(log(segment.domain.min, base), log(segment.domain.max, base), amount));\n",
       "                        }\n",
       "                    }\n",
       "                }\n",
       "            }\n",
       "\n",
       "            var axes = {};\n",
       "\n",
       "            function display_coordinates(e)\n",
       "            {\n",
       "                var current = canvas.createSVGPoint();\n",
       "                current.x = e.clientX;\n",
       "                current.y = e.clientY;\n",
       "\n",
       "                for(var axis_id in axes)\n",
       "                {\n",
       "                    var axis = document.querySelector(\"#\" + axis_id);\n",
       "                    var coordinates = axis.querySelector(\".toyplot-coordinates-Axis-coordinates\");\n",
       "                    if(coordinates)\n",
       "                    {\n",
       "                        var projection = axes[axis_id];\n",
       "                        var local = current.matrixTransform(axis.getScreenCTM().inverse());\n",
       "                        if(inside(local.x, projection))\n",
       "                        {\n",
       "                            var domain = to_domain(local.x, projection);\n",
       "                            coordinates.style.visibility = \"visible\";\n",
       "                            coordinates.setAttribute(\"transform\", \"translate(\" + local.x + \")\");\n",
       "                            var text = coordinates.querySelector(\"text\");\n",
       "                            text.textContent = domain.toFixed(2);\n",
       "                        }\n",
       "                        else\n",
       "                        {\n",
       "                            coordinates.style.visibility= \"hidden\";\n",
       "                        }\n",
       "                    }\n",
       "                }\n",
       "            }\n",
       "\n",
       "            canvas.addEventListener(\"click\", display_coordinates);\n",
       "\n",
       "            var module = {};\n",
       "            module.show_coordinates = function(axis_id, projection)\n",
       "            {\n",
       "                axes[axis_id] = projection;\n",
       "            }\n",
       "\n",
       "            return module;\n",
       "        })(modules[\"toyplot/canvas\"]);\n",
       "(function(axis, axis_id, projection)\n",
       "        {\n",
       "            axis.show_coordinates(axis_id, projection);\n",
       "        })(modules[\"toyplot.coordinates.Axis\"],\"t036185f83cb14be8bb0db07b8f597e2e\",[{\"domain\": {\"bounds\": {\"max\": Infinity, \"min\": -Infinity}, \"max\": 5234375.0, \"min\": -1548687.4999999998}, \"range\": {\"bounds\": {\"max\": Infinity, \"min\": -Infinity}, \"max\": 160.0, \"min\": 0.0}, \"scale\": \"linear\"}]);\n",
       "})();</script></div></div>"
      ]
     },
     "metadata": {},
     "output_type": "display_data"
    }
   ],
   "source": [
    "# use the same species tree\n",
    "t = toytree.tree(mod.newick)\n",
    "t.draw(ts='p');"
   ]
  },
  {
   "cell_type": "markdown",
   "id": "a69b5aec-8cb4-48aa-a73e-e0bdfd5c6da5",
   "metadata": {},
   "source": [
    "### Define simulation parameters"
   ]
  },
  {
   "cell_type": "code",
   "execution_count": 12,
   "id": "90af4b6a-fa8b-48fc-bc58-477b4c9aa1a1",
   "metadata": {},
   "outputs": [],
   "source": [
    "# MUTATION\n",
    "mut = 1e-8\n",
    "\n",
    "# NE\n",
    "Ne = 100_000\n",
    "\n",
    "# INTROGRESSION\n",
    "# (the `source` and `dest` here are what \n",
    "# we are trying to infer!)\n",
    "source = 5\n",
    "dest = 3\n",
    "time = 0.5\n",
    "magnitude = 0.35\n",
    "\n",
    "admix = (\n",
    "    source,\n",
    "    dest,\n",
    "    time,\n",
    "    magnitude\n",
    ")"
   ]
  },
  {
   "cell_type": "markdown",
   "id": "63564945-6bee-4748-8c5a-95dfab1ca708",
   "metadata": {},
   "source": [
    "### Simulate"
   ]
  },
  {
   "cell_type": "code",
   "execution_count": 13,
   "id": "69203806-4ce5-426e-b1eb-1fcdc6dee88b",
   "metadata": {},
   "outputs": [],
   "source": [
    "# build ipcoal Model object using our defined parameters\n",
    "ipmod = ipcoal.Model(\n",
    "    tree=t,\n",
    "    admixture_edges=[admix],\n",
    "    Ne=Ne,\n",
    "    mut=mut,\n",
    "    )"
   ]
  },
  {
   "cell_type": "code",
   "execution_count": 14,
   "id": "07d19bf2-a0ac-42d6-82b3-4a4d702f6bfb",
   "metadata": {},
   "outputs": [],
   "source": [
    "# run the simulation\n",
    "ipmod.sim_snps(5000)"
   ]
  },
  {
   "cell_type": "markdown",
   "id": "c7169fb5-7b99-464b-814a-927262df95ba",
   "metadata": {},
   "source": [
    "### Get answer from model"
   ]
  },
  {
   "cell_type": "code",
   "execution_count": 15,
   "id": "8f92fa4e-fee5-491b-af51-25fd0e2c1faf",
   "metadata": {},
   "outputs": [
    {
     "data": {
      "text/html": [
       "<div>\n",
       "<style scoped>\n",
       "    .dataframe tbody tr th:only-of-type {\n",
       "        vertical-align: middle;\n",
       "    }\n",
       "\n",
       "    .dataframe tbody tr th {\n",
       "        vertical-align: top;\n",
       "    }\n",
       "\n",
       "    .dataframe thead th {\n",
       "        text-align: right;\n",
       "    }\n",
       "</style>\n",
       "<table border=\"1\" class=\"dataframe\">\n",
       "  <thead>\n",
       "    <tr style=\"text-align: right;\">\n",
       "      <th>1</th>\n",
       "      <th>0,2</th>\n",
       "      <th>0,3</th>\n",
       "      <th>0,4</th>\n",
       "      <th>1,2</th>\n",
       "      <th>1,3</th>\n",
       "      <th>1,4</th>\n",
       "      <th>2,0</th>\n",
       "      <th>2,1</th>\n",
       "      <th>2,3</th>\n",
       "      <th>2,4</th>\n",
       "      <th>...</th>\n",
       "      <th>3,5</th>\n",
       "      <th>4,0</th>\n",
       "      <th>4,1</th>\n",
       "      <th>4,2</th>\n",
       "      <th>4,3</th>\n",
       "      <th>4,5</th>\n",
       "      <th>4,6</th>\n",
       "      <th>5,3</th>\n",
       "      <th>5,4</th>\n",
       "      <th>6,4</th>\n",
       "    </tr>\n",
       "  </thead>\n",
       "  <tbody>\n",
       "    <tr>\n",
       "      <th>0</th>\n",
       "      <td>7.083513e-22</td>\n",
       "      <td>0.999888</td>\n",
       "      <td>1.640437e-23</td>\n",
       "      <td>3.886871e-07</td>\n",
       "      <td>6.891427e-28</td>\n",
       "      <td>8.560574e-19</td>\n",
       "      <td>2.962834e-21</td>\n",
       "      <td>1.822131e-10</td>\n",
       "      <td>8.201354e-31</td>\n",
       "      <td>1.168126e-24</td>\n",
       "      <td>...</td>\n",
       "      <td>3.691465e-18</td>\n",
       "      <td>4.627179e-28</td>\n",
       "      <td>6.081071e-17</td>\n",
       "      <td>3.505266e-16</td>\n",
       "      <td>1.885494e-19</td>\n",
       "      <td>5.835578e-19</td>\n",
       "      <td>1.136955e-18</td>\n",
       "      <td>1.138400e-11</td>\n",
       "      <td>1.092091e-24</td>\n",
       "      <td>1.653196e-15</td>\n",
       "    </tr>\n",
       "  </tbody>\n",
       "</table>\n",
       "<p>1 rows × 24 columns</p>\n",
       "</div>"
      ],
      "text/plain": [
       "1           0,2       0,3           0,4           1,2           1,3  \\\n",
       "0  7.083513e-22  0.999888  1.640437e-23  3.886871e-07  6.891427e-28   \n",
       "\n",
       "1           1,4           2,0           2,1           2,3           2,4  ...  \\\n",
       "0  8.560574e-19  2.962834e-21  1.822131e-10  8.201354e-31  1.168126e-24  ...   \n",
       "\n",
       "1           3,5           4,0           4,1           4,2           4,3  \\\n",
       "0  3.691465e-18  4.627179e-28  6.081071e-17  3.505266e-16  1.885494e-19   \n",
       "\n",
       "1           4,5           4,6           5,3           5,4           6,4  \n",
       "0  5.835578e-19  1.136955e-18  1.138400e-11  1.092091e-24  1.653196e-15  \n",
       "\n",
       "[1 rows x 24 columns]"
      ]
     },
     "execution_count": 15,
     "metadata": {},
     "output_type": "execute_result"
    }
   ],
   "source": [
    "# load the predictions DataFrame\n",
    "pred = mod.predict_from_alignment(ipmod.seqs)\n",
    "pred"
   ]
  },
  {
   "cell_type": "code",
   "execution_count": 16,
   "id": "f3cd21d9-951b-462c-81c5-79ab40912a71",
   "metadata": {},
   "outputs": [
    {
     "data": {
      "text/plain": [
       "'0,3'"
      ]
     },
     "execution_count": 16,
     "metadata": {},
     "output_type": "execute_result"
    }
   ],
   "source": [
    "# print the 'source,dest'\n",
    "pred.columns[pred.loc[0].argmax()]"
   ]
  }
 ],
 "metadata": {
  "kernelspec": {
   "display_name": "Python 3 (ipykernel)",
   "language": "python",
   "name": "python3"
  },
  "language_info": {
   "codemirror_mode": {
    "name": "ipython",
    "version": 3
   },
   "file_extension": ".py",
   "mimetype": "text/x-python",
   "name": "python",
   "nbconvert_exporter": "python",
   "pygments_lexer": "ipython3",
   "version": "3.8.5"
  }
 },
 "nbformat": 4,
 "nbformat_minor": 5
}
