{
 "cells": [
  {
   "cell_type": "markdown",
   "metadata": {},
   "source": [
    "# Batch training demonstration"
   ]
  },
  {
   "cell_type": "markdown",
   "metadata": {},
   "source": [
    "#### Imports"
   ]
  },
  {
   "cell_type": "code",
   "execution_count": 1,
   "metadata": {},
   "outputs": [
    {
     "name": "stderr",
     "output_type": "stream",
     "text": [
      "Using TensorFlow backend.\n"
     ]
    }
   ],
   "source": [
    "# training automation\n",
    "from simcat import BatchTrain\n",
    "# defining the model\n",
    "from keras.models import Sequential, load_model\n",
    "from keras.layers import Dense"
   ]
  },
  {
   "cell_type": "markdown",
   "metadata": {},
   "source": [
    "#### Define the parameters for training:\n",
    "\n",
    "* Where is the data?\n",
    "* What do want to name the outputs?\n",
    "* What proportion do we want to split into training vs. testing?\n",
    "* Do we want to exclude scenarios with introgression between sister taxa?\n",
    "* Do we want to exclude scenarios where introgression is really low?\n",
    "* Do we want to make a \"zero\" category that includes all remaining simulations with magnitude under some number?"
   ]
  },
  {
   "cell_type": "code",
   "execution_count": 2,
   "metadata": {},
   "outputs": [
    {
     "name": "stdout",
     "output_type": "stream",
     "text": [
      "77840 total simulations.\n",
      "53249 total simulations compatible with parameters.\n",
      "Data split into 47924 training and 5325 testing simulations.\n",
      "\n",
      "\n",
      "Analysis reference file saved to ../../imb_8tip_20mil/merged/model_training.analysis.h5\n"
     ]
    }
   ],
   "source": [
    "tester = BatchTrain.BatchTrain(input_name='cleaned',\n",
    "                    output_name='model_training',\n",
    "                    directory='../../imb_8tip_20mil/merged/',\n",
    "                    prop_training=0.9,\n",
    "                    exclude_sisters=True,\n",
    "                    exclude_magnitude=0.1,\n",
    "                    to_zero_magnitude=None\n",
    "                   )"
   ]
  },
  {
   "cell_type": "markdown",
   "metadata": {},
   "source": [
    "#### An \"analysis.h5\" file has been saved as output. It contains indices for simulations in the training vs testing dataset, as well as some metadata about the training. \n",
    "#### A \"onehot_dict.csv\" file has also been saved, to convert between integer codes and the literal string labels."
   ]
  },
  {
   "cell_type": "markdown",
   "metadata": {},
   "source": [
    "### Define a neural network"
   ]
  },
  {
   "cell_type": "code",
   "execution_count": 3,
   "metadata": {},
   "outputs": [],
   "source": [
    "# Neural network architecture defined with Keras tools\n",
    "model = Sequential()\n",
    "model.add(Dense(1000, input_dim=tester.input_shape, activation='relu'))\n",
    "model.add(Dense(tester.num_classes, activation='softmax'))\n",
    "model.compile(loss='categorical_crossentropy', optimizer='adam', metrics=['accuracy'])"
   ]
  },
  {
   "cell_type": "markdown",
   "metadata": {},
   "source": [
    "### Initialize the network model for the BatchTrain object -- which will also save the model as a file"
   ]
  },
  {
   "cell_type": "code",
   "execution_count": 4,
   "metadata": {},
   "outputs": [
    {
     "name": "stdout",
     "output_type": "stream",
     "text": [
      "New neural network saved to: ../../imb_8tip_20mil/merged/model_training.model.h5\n"
     ]
    }
   ],
   "source": [
    "tester.init_model(model)"
   ]
  },
  {
   "cell_type": "markdown",
   "metadata": {},
   "source": [
    "### Now designate the batch size and the number of epochs, and train!"
   ]
  },
  {
   "cell_type": "code",
   "execution_count": 5,
   "metadata": {
    "scrolled": true
   },
   "outputs": [
    {
     "name": "stdout",
     "output_type": "stream",
     "text": [
      "Epoch 1/5\n",
      "239/239 [==============================] - 332s 1s/step - loss: 3.3538 - accuracy: 0.2824 - val_loss: 2.1952 - val_accuracy: 0.4767\n",
      "Epoch 2/5\n",
      "239/239 [==============================] - 368s 2s/step - loss: 1.8038 - accuracy: 0.5536 - val_loss: 1.5014 - val_accuracy: 0.6064\n",
      "Epoch 3/5\n",
      "239/239 [==============================] - 310s 1s/step - loss: 1.3171 - accuracy: 0.6472 - val_loss: 1.1761 - val_accuracy: 0.6580\n",
      "Epoch 4/5\n",
      "239/239 [==============================] - 318s 1s/step - loss: 1.0785 - accuracy: 0.6968 - val_loss: 1.0088 - val_accuracy: 0.7060\n",
      "Epoch 5/5\n",
      "239/239 [==============================] - 360s 2s/step - loss: 0.9252 - accuracy: 0.7349 - val_loss: 0.9120 - val_accuracy: 0.7551\n"
     ]
    }
   ],
   "source": [
    "tester.train(batch_size=200,\n",
    "             num_epochs=5)"
   ]
  },
  {
   "cell_type": "markdown",
   "metadata": {},
   "source": [
    "#### The model is automatically saved to disk after each epoch."
   ]
  }
 ],
 "metadata": {
  "kernelspec": {
   "display_name": "Python 3",
   "language": "python",
   "name": "python3"
  },
  "language_info": {
   "codemirror_mode": {
    "name": "ipython",
    "version": 3
   },
   "file_extension": ".py",
   "mimetype": "text/x-python",
   "name": "python",
   "nbconvert_exporter": "python",
   "pygments_lexer": "ipython3",
   "version": "3.7.4"
  }
 },
 "nbformat": 4,
 "nbformat_minor": 2
}
