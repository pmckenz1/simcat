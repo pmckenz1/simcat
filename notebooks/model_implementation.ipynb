{
 "cells": [
  {
   "cell_type": "markdown",
   "metadata": {},
   "source": [
    "# Loading trained models and using them to make predictions"
   ]
  },
  {
   "cell_type": "markdown",
   "metadata": {},
   "source": [
    "Here, we load two trained models -- one first stage model, one second stage model -- and use them to make predictions about the source and destination of introgression from newly simulated data."
   ]
  },
  {
   "cell_type": "markdown",
   "metadata": {},
   "source": [
    "### Imports"
   ]
  },
  {
   "cell_type": "code",
   "execution_count": 1,
   "metadata": {
    "scrolled": true
   },
   "outputs": [
    {
     "name": "stderr",
     "output_type": "stream",
     "text": [
      "Using TensorFlow backend.\n"
     ]
    }
   ],
   "source": [
    "import simcat\n",
    "import toytree\n",
    "import numpy as np\n",
    "import pandas as pd\n",
    "import ipcoal\n",
    "import pandas as pd\n",
    "\n",
    "from keras.models import load_model"
   ]
  },
  {
   "cell_type": "markdown",
   "metadata": {},
   "source": [
    "### Load up our trained models"
   ]
  },
  {
   "cell_type": "markdown",
   "metadata": {},
   "source": [
    "The models are written out using keras' model.save function, as .h5 files."
   ]
  },
  {
   "cell_type": "code",
   "execution_count": 2,
   "metadata": {},
   "outputs": [],
   "source": [
    "firststage_mod = load_model(\"../models/bal_10tip_2mil/firststage_mod.h5\")\n",
    "secondstage_mod = load_model(\"../models/bal_10tip_2mil/secondstage_mod.h5\")"
   ]
  },
  {
   "cell_type": "markdown",
   "metadata": {},
   "source": [
    "### Load up the classification dictionary"
   ]
  },
  {
   "cell_type": "markdown",
   "metadata": {},
   "source": [
    "This is a dictionary I made during the training process to translate the one-hot encodings used by models to a literal source/destination pair."
   ]
  },
  {
   "cell_type": "code",
   "execution_count": 3,
   "metadata": {},
   "outputs": [
    {
     "data": {
      "text/html": [
       "<div>\n",
       "<style scoped>\n",
       "    .dataframe tbody tr th:only-of-type {\n",
       "        vertical-align: middle;\n",
       "    }\n",
       "\n",
       "    .dataframe tbody tr th {\n",
       "        vertical-align: top;\n",
       "    }\n",
       "\n",
       "    .dataframe thead th {\n",
       "        text-align: right;\n",
       "    }\n",
       "</style>\n",
       "<table border=\"1\" class=\"dataframe\">\n",
       "  <thead>\n",
       "    <tr style=\"text-align: right;\">\n",
       "      <th></th>\n",
       "      <th>0</th>\n",
       "      <th>1</th>\n",
       "      <th>2</th>\n",
       "      <th>3</th>\n",
       "      <th>4</th>\n",
       "      <th>5</th>\n",
       "      <th>6</th>\n",
       "      <th>7</th>\n",
       "      <th>8</th>\n",
       "      <th>9</th>\n",
       "      <th>...</th>\n",
       "      <th>167</th>\n",
       "      <th>168</th>\n",
       "      <th>169</th>\n",
       "      <th>170</th>\n",
       "      <th>171</th>\n",
       "      <th>172</th>\n",
       "      <th>173</th>\n",
       "      <th>174</th>\n",
       "      <th>175</th>\n",
       "      <th>176</th>\n",
       "    </tr>\n",
       "  </thead>\n",
       "  <tbody>\n",
       "    <tr>\n",
       "      <th>0</th>\n",
       "      <td>0,11</td>\n",
       "      <td>0,2</td>\n",
       "      <td>0,3</td>\n",
       "      <td>0,4</td>\n",
       "      <td>0,5</td>\n",
       "      <td>0,6</td>\n",
       "      <td>0,7</td>\n",
       "      <td>0,8</td>\n",
       "      <td>0,9</td>\n",
       "      <td>1,11</td>\n",
       "      <td>...</td>\n",
       "      <td>9,12</td>\n",
       "      <td>9,13</td>\n",
       "      <td>9,14</td>\n",
       "      <td>9,2</td>\n",
       "      <td>9,3</td>\n",
       "      <td>9,4</td>\n",
       "      <td>9,5</td>\n",
       "      <td>9,6</td>\n",
       "      <td>9,7</td>\n",
       "      <td>NaN</td>\n",
       "    </tr>\n",
       "  </tbody>\n",
       "</table>\n",
       "<p>1 rows × 177 columns</p>\n",
       "</div>"
      ],
      "text/plain": [
       "      0    1    2    3    4    5    6    7    8     9  ...   167   168   169  \\\n",
       "0  0,11  0,2  0,3  0,4  0,5  0,6  0,7  0,8  0,9  1,11  ...  9,12  9,13  9,14   \n",
       "\n",
       "   170  171  172  173  174  175 176  \n",
       "0  9,2  9,3  9,4  9,5  9,6  9,7 NaN  \n",
       "\n",
       "[1 rows x 177 columns]"
      ]
     },
     "execution_count": 3,
     "metadata": {},
     "output_type": "execute_result"
    }
   ],
   "source": [
    "onehot_dict = pd.read_csv('../models/bal_10tip_2mil/onehot_dict.csv')\n",
    "onehot_dict"
   ]
  },
  {
   "cell_type": "markdown",
   "metadata": {},
   "source": [
    "### Load up our input topology"
   ]
  },
  {
   "cell_type": "markdown",
   "metadata": {},
   "source": [
    "This is the topology used as a basis for the training simulations. Aside from using the topology, the parameters in the simulations were drawn from distributions based around the node heights on this tree."
   ]
  },
  {
   "cell_type": "code",
   "execution_count": 4,
   "metadata": {},
   "outputs": [],
   "source": [
    "input_topo = toytree.tree('../models/bal_10tip_2mil/species_tree.tre')"
   ]
  },
  {
   "cell_type": "markdown",
   "metadata": {},
   "source": [
    "### Define a simple simulation"
   ]
  },
  {
   "cell_type": "markdown",
   "metadata": {},
   "source": [
    "We'll give it some simple scenario with constant Ne values and without sliding the nodes, just to demonstrate."
   ]
  },
  {
   "cell_type": "code",
   "execution_count": 5,
   "metadata": {},
   "outputs": [
    {
     "data": {
      "text/html": [
       "<div class=\"toyplot\" id=\"tdb874cf34620497dbe3049bd55b043de\" style=\"text-align:center\"><svg class=\"toyplot-canvas-Canvas\" height=\"260.0px\" id=\"t41e3594ae21b400f930c083eb75976cb\" preserveAspectRatio=\"xMidYMid meet\" style=\"background-color:transparent;border-color:#292724;border-style:none;border-width:1.0;fill:rgb(16.1%,15.3%,14.1%);fill-opacity:1.0;font-family:Helvetica;font-size:12px;opacity:1.0;stroke:rgb(16.1%,15.3%,14.1%);stroke-opacity:1.0;stroke-width:1.0\" viewBox=\"0 0 350.0 260.0\" width=\"350.0px\" xmlns=\"http://www.w3.org/2000/svg\" xmlns:toyplot=\"http://www.sandia.gov/toyplot\" xmlns:xlink=\"http://www.w3.org/1999/xlink\"><g class=\"toyplot-coordinates-Cartesian\" id=\"t5570da1bdd9b468a9cb76aaf54222a80\"><clipPath id=\"t7cfdac7c55e74da1afff3ae94034d4b7\"><rect height=\"200.0\" width=\"290.0\" x=\"30.0\" y=\"30.0\"></rect></clipPath><g clip-path=\"url(#t7cfdac7c55e74da1afff3ae94034d4b7)\"><g class=\"toyplot-mark-Graph\" id=\"td0ba033f674146ccb6bd84c110495b68\"><g class=\"toyplot-Edges\"><path d=\"M 250.85591860857812 50.0 L 250.85591860857812 86.36363636363637\" style=\"fill:none;opacity:1;stroke:rgb(14.9%,14.9%,14.9%);stroke-linecap:round;stroke-opacity:1.0;stroke-width:2.0\"></path><path d=\"M 118.93258189800741 50.0 L 118.93258189800741 86.36363636363637\" style=\"fill:none;opacity:1;stroke:rgb(14.9%,14.9%,14.9%);stroke-linecap:round;stroke-opacity:1.0;stroke-width:2.0\"></path><path d=\"M 280.53866936845657 86.36363636363637 L 280.53866936845657 122.72727272727273\" style=\"fill:none;opacity:1;stroke:rgb(14.9%,14.9%,14.9%);stroke-linecap:round;stroke-opacity:1.0;stroke-width:2.0\"></path><path d=\"M 221.17316784869973 86.36363636363637 L 221.17316784869973 122.72727272727273\" style=\"fill:none;opacity:1;stroke:rgb(14.9%,14.9%,14.9%);stroke-linecap:round;stroke-opacity:1.0;stroke-width:2.0\"></path><path d=\"M 148.6153326578858 86.36363636363637 L 148.6153326578858 122.72727272727273\" style=\"fill:none;opacity:1;stroke:rgb(14.9%,14.9%,14.9%);stroke-linecap:round;stroke-opacity:1.0;stroke-width:2.0\"></path><path d=\"M 89.249831138129 86.36363636363637 L 89.249831138129 122.72727272727273\" style=\"fill:none;opacity:1;stroke:rgb(14.9%,14.9%,14.9%);stroke-linecap:round;stroke-opacity:1.0;stroke-width:2.0\"></path><path d=\"M 293.7310030395136 122.72727272727273 L 293.7310030395136 195.45454545454544\" style=\"fill:none;opacity:1;stroke:rgb(14.9%,14.9%,14.9%);stroke-linecap:round;stroke-opacity:1.0;stroke-width:2.0\"></path><path d=\"M 267.34633569739947 122.72727272727273 L 267.34633569739947 195.45454545454544\" style=\"fill:none;opacity:1;stroke:rgb(14.9%,14.9%,14.9%);stroke-linecap:round;stroke-opacity:1.0;stroke-width:2.0\"></path><path d=\"M 240.96166835528533 122.72727272727273 L 240.96166835528533 195.45454545454544\" style=\"fill:none;opacity:1;stroke:rgb(14.9%,14.9%,14.9%);stroke-linecap:round;stroke-opacity:1.0;stroke-width:2.0\"></path><path d=\"M 201.3846673421141 122.72727272727273 L 201.3846673421141 159.0909090909091\" style=\"fill:none;opacity:1;stroke:rgb(14.9%,14.9%,14.9%);stroke-linecap:round;stroke-opacity:1.0;stroke-width:2.0\"></path><path d=\"M 161.8076663289429 122.72727272727273 L 161.8076663289429 195.45454545454544\" style=\"fill:none;opacity:1;stroke:rgb(14.9%,14.9%,14.9%);stroke-linecap:round;stroke-opacity:1.0;stroke-width:2.0\"></path><path d=\"M 135.42299898682876 122.72727272727273 L 135.42299898682876 195.45454545454544\" style=\"fill:none;opacity:1;stroke:rgb(14.9%,14.9%,14.9%);stroke-linecap:round;stroke-opacity:1.0;stroke-width:2.0\"></path><path d=\"M 109.03833164471462 122.72727272727273 L 109.03833164471462 195.45454545454544\" style=\"fill:none;opacity:1;stroke:rgb(14.9%,14.9%,14.9%);stroke-linecap:round;stroke-opacity:1.0;stroke-width:2.0\"></path><path d=\"M 69.46133063154339 122.72727272727273 L 69.46133063154339 159.0909090909091\" style=\"fill:none;opacity:1;stroke:rgb(14.9%,14.9%,14.9%);stroke-linecap:round;stroke-opacity:1.0;stroke-width:2.0\"></path><path d=\"M 214.57700101317118 159.0909090909091 L 214.57700101317118 195.45454545454544\" style=\"fill:none;opacity:1;stroke:rgb(14.9%,14.9%,14.9%);stroke-linecap:round;stroke-opacity:1.0;stroke-width:2.0\"></path><path d=\"M 188.19233367105704 159.0909090909091 L 188.19233367105704 195.45454545454544\" style=\"fill:none;opacity:1;stroke:rgb(14.9%,14.9%,14.9%);stroke-linecap:round;stroke-opacity:1.0;stroke-width:2.0\"></path><path d=\"M 82.65366430260046 159.0909090909091 L 82.65366430260046 195.45454545454544\" style=\"fill:none;opacity:1;stroke:rgb(14.9%,14.9%,14.9%);stroke-linecap:round;stroke-opacity:1.0;stroke-width:2.0\"></path><path d=\"M 56.26899696048632 159.0909090909091 L 56.26899696048632 195.45454545454544\" style=\"fill:none;opacity:1;stroke:rgb(14.9%,14.9%,14.9%);stroke-linecap:round;stroke-opacity:1.0;stroke-width:2.0\"></path><path d=\"M 184.89425025329277 50.0 L 250.85591860857812 50.0\" style=\"fill:none;opacity:1;stroke:rgb(14.9%,14.9%,14.9%);stroke-linecap:round;stroke-opacity:1.0;stroke-width:2.0\"></path><path d=\"M 184.89425025329277 50.0 L 118.93258189800741 50.0\" style=\"fill:none;opacity:1;stroke:rgb(14.9%,14.9%,14.9%);stroke-linecap:round;stroke-opacity:1.0;stroke-width:2.0\"></path><path d=\"M 250.85591860857812 86.36363636363637 L 280.53866936845657 86.36363636363637\" style=\"fill:none;opacity:1;stroke:rgb(14.9%,14.9%,14.9%);stroke-linecap:round;stroke-opacity:1.0;stroke-width:2.0\"></path><path d=\"M 250.85591860857812 86.36363636363637 L 221.17316784869973 86.36363636363637\" style=\"fill:none;opacity:1;stroke:rgb(14.9%,14.9%,14.9%);stroke-linecap:round;stroke-opacity:1.0;stroke-width:2.0\"></path><path d=\"M 118.93258189800741 86.36363636363637 L 148.6153326578858 86.36363636363637\" style=\"fill:none;opacity:1;stroke:rgb(14.9%,14.9%,14.9%);stroke-linecap:round;stroke-opacity:1.0;stroke-width:2.0\"></path><path d=\"M 118.93258189800741 86.36363636363637 L 89.249831138129 86.36363636363637\" style=\"fill:none;opacity:1;stroke:rgb(14.9%,14.9%,14.9%);stroke-linecap:round;stroke-opacity:1.0;stroke-width:2.0\"></path><path d=\"M 280.53866936845657 122.72727272727273 L 293.7310030395136 122.72727272727273\" style=\"fill:none;opacity:1;stroke:rgb(14.9%,14.9%,14.9%);stroke-linecap:round;stroke-opacity:1.0;stroke-width:2.0\"></path><path d=\"M 280.53866936845657 122.72727272727273 L 267.34633569739947 122.72727272727273\" style=\"fill:none;opacity:1;stroke:rgb(14.9%,14.9%,14.9%);stroke-linecap:round;stroke-opacity:1.0;stroke-width:2.0\"></path><path d=\"M 221.17316784869973 122.72727272727273 L 240.96166835528533 122.72727272727273\" style=\"fill:none;opacity:1;stroke:rgb(14.9%,14.9%,14.9%);stroke-linecap:round;stroke-opacity:1.0;stroke-width:2.0\"></path><path d=\"M 221.17316784869973 122.72727272727273 L 201.3846673421141 122.72727272727273\" style=\"fill:none;opacity:1;stroke:rgb(14.9%,14.9%,14.9%);stroke-linecap:round;stroke-opacity:1.0;stroke-width:2.0\"></path><path d=\"M 148.6153326578858 122.72727272727273 L 161.8076663289429 122.72727272727273\" style=\"fill:none;opacity:1;stroke:rgb(14.9%,14.9%,14.9%);stroke-linecap:round;stroke-opacity:1.0;stroke-width:2.0\"></path><path d=\"M 148.6153326578858 122.72727272727273 L 135.42299898682876 122.72727272727273\" style=\"fill:none;opacity:1;stroke:rgb(14.9%,14.9%,14.9%);stroke-linecap:round;stroke-opacity:1.0;stroke-width:2.0\"></path><path d=\"M 89.249831138129 122.72727272727273 L 109.03833164471462 122.72727272727273\" style=\"fill:none;opacity:1;stroke:rgb(14.9%,14.9%,14.9%);stroke-linecap:round;stroke-opacity:1.0;stroke-width:2.0\"></path><path d=\"M 89.249831138129 122.72727272727273 L 69.46133063154339 122.72727272727273\" style=\"fill:none;opacity:1;stroke:rgb(14.9%,14.9%,14.9%);stroke-linecap:round;stroke-opacity:1.0;stroke-width:2.0\"></path><path d=\"M 201.3846673421141 159.0909090909091 L 214.57700101317118 159.0909090909091\" style=\"fill:none;opacity:1;stroke:rgb(14.9%,14.9%,14.9%);stroke-linecap:round;stroke-opacity:1.0;stroke-width:2.0\"></path><path d=\"M 201.3846673421141 159.0909090909091 L 188.19233367105704 159.0909090909091\" style=\"fill:none;opacity:1;stroke:rgb(14.9%,14.9%,14.9%);stroke-linecap:round;stroke-opacity:1.0;stroke-width:2.0\"></path><path d=\"M 69.46133063154339 159.0909090909091 L 82.65366430260046 159.0909090909091\" style=\"fill:none;opacity:1;stroke:rgb(14.9%,14.9%,14.9%);stroke-linecap:round;stroke-opacity:1.0;stroke-width:2.0\"></path><path d=\"M 69.46133063154339 159.0909090909091 L 56.26899696048632 159.0909090909091\" style=\"fill:none;opacity:1;stroke:rgb(14.9%,14.9%,14.9%);stroke-linecap:round;stroke-opacity:1.0;stroke-width:2.0\"></path><g class=\"toyplot-HeadMarkers\"></g><g class=\"toyplot-MiddleMarkers\"></g><g class=\"toyplot-TailMarkers\"></g></g><g class=\"toyplot-Vertices\"><g class=\"toyplot-Datum\" style=\"fill:rgb(40%,76.1%,64.7%);fill-opacity:1.0;opacity:1.0;stroke:rgb(40%,76.1%,64.7%);stroke-opacity:1.0\" transform=\"translate(56.26899696048632, 195.45454545454544)\"><circle r=\"0.0\"></circle></g><g class=\"toyplot-Datum\" style=\"fill:rgb(40%,76.1%,64.7%);fill-opacity:1.0;opacity:1.0;stroke:rgb(40%,76.1%,64.7%);stroke-opacity:1.0\" transform=\"translate(82.65366430260046, 195.45454545454544)\"><circle r=\"0.0\"></circle></g><g class=\"toyplot-Datum\" style=\"fill:rgb(40%,76.1%,64.7%);fill-opacity:1.0;opacity:1.0;stroke:rgb(40%,76.1%,64.7%);stroke-opacity:1.0\" transform=\"translate(109.03833164471462, 195.45454545454544)\"><circle r=\"0.0\"></circle></g><g class=\"toyplot-Datum\" style=\"fill:rgb(40%,76.1%,64.7%);fill-opacity:1.0;opacity:1.0;stroke:rgb(40%,76.1%,64.7%);stroke-opacity:1.0\" transform=\"translate(135.42299898682876, 195.45454545454544)\"><circle r=\"0.0\"></circle></g><g class=\"toyplot-Datum\" style=\"fill:rgb(40%,76.1%,64.7%);fill-opacity:1.0;opacity:1.0;stroke:rgb(40%,76.1%,64.7%);stroke-opacity:1.0\" transform=\"translate(161.8076663289429, 195.45454545454544)\"><circle r=\"0.0\"></circle></g><g class=\"toyplot-Datum\" style=\"fill:rgb(40%,76.1%,64.7%);fill-opacity:1.0;opacity:1.0;stroke:rgb(40%,76.1%,64.7%);stroke-opacity:1.0\" transform=\"translate(188.19233367105704, 195.45454545454544)\"><circle r=\"0.0\"></circle></g><g class=\"toyplot-Datum\" style=\"fill:rgb(40%,76.1%,64.7%);fill-opacity:1.0;opacity:1.0;stroke:rgb(40%,76.1%,64.7%);stroke-opacity:1.0\" transform=\"translate(214.57700101317118, 195.45454545454544)\"><circle r=\"0.0\"></circle></g><g class=\"toyplot-Datum\" style=\"fill:rgb(40%,76.1%,64.7%);fill-opacity:1.0;opacity:1.0;stroke:rgb(40%,76.1%,64.7%);stroke-opacity:1.0\" transform=\"translate(240.96166835528533, 195.45454545454544)\"><circle r=\"0.0\"></circle></g><g class=\"toyplot-Datum\" style=\"fill:rgb(40%,76.1%,64.7%);fill-opacity:1.0;opacity:1.0;stroke:rgb(40%,76.1%,64.7%);stroke-opacity:1.0\" transform=\"translate(267.34633569739947, 195.45454545454544)\"><circle r=\"0.0\"></circle></g><g class=\"toyplot-Datum\" style=\"fill:rgb(40%,76.1%,64.7%);fill-opacity:1.0;opacity:1.0;stroke:rgb(40%,76.1%,64.7%);stroke-opacity:1.0\" transform=\"translate(293.7310030395136, 195.45454545454544)\"><circle r=\"0.0\"></circle></g><g class=\"toyplot-Datum\" style=\"fill:rgb(40%,76.1%,64.7%);fill-opacity:1.0;opacity:1.0;stroke:rgb(40%,76.1%,64.7%);stroke-opacity:1.0\" transform=\"translate(69.46133063154339, 159.0909090909091)\"><circle r=\"0.0\"></circle></g><g class=\"toyplot-Datum\" style=\"fill:rgb(40%,76.1%,64.7%);fill-opacity:1.0;opacity:1.0;stroke:rgb(40%,76.1%,64.7%);stroke-opacity:1.0\" transform=\"translate(201.3846673421141, 159.0909090909091)\"><circle r=\"0.0\"></circle></g><g class=\"toyplot-Datum\" style=\"fill:rgb(40%,76.1%,64.7%);fill-opacity:1.0;opacity:1.0;stroke:rgb(40%,76.1%,64.7%);stroke-opacity:1.0\" transform=\"translate(89.249831138129, 122.72727272727273)\"><circle r=\"0.0\"></circle></g><g class=\"toyplot-Datum\" style=\"fill:rgb(40%,76.1%,64.7%);fill-opacity:1.0;opacity:1.0;stroke:rgb(40%,76.1%,64.7%);stroke-opacity:1.0\" transform=\"translate(148.6153326578858, 122.72727272727273)\"><circle r=\"0.0\"></circle></g><g class=\"toyplot-Datum\" style=\"fill:rgb(40%,76.1%,64.7%);fill-opacity:1.0;opacity:1.0;stroke:rgb(40%,76.1%,64.7%);stroke-opacity:1.0\" transform=\"translate(221.17316784869973, 122.72727272727273)\"><circle r=\"0.0\"></circle></g><g class=\"toyplot-Datum\" style=\"fill:rgb(40%,76.1%,64.7%);fill-opacity:1.0;opacity:1.0;stroke:rgb(40%,76.1%,64.7%);stroke-opacity:1.0\" transform=\"translate(280.53866936845657, 122.72727272727273)\"><circle r=\"0.0\"></circle></g><g class=\"toyplot-Datum\" style=\"fill:rgb(40%,76.1%,64.7%);fill-opacity:1.0;opacity:1.0;stroke:rgb(40%,76.1%,64.7%);stroke-opacity:1.0\" transform=\"translate(118.93258189800741, 86.36363636363637)\"><circle r=\"0.0\"></circle></g><g class=\"toyplot-Datum\" style=\"fill:rgb(40%,76.1%,64.7%);fill-opacity:1.0;opacity:1.0;stroke:rgb(40%,76.1%,64.7%);stroke-opacity:1.0\" transform=\"translate(250.85591860857812, 86.36363636363637)\"><circle r=\"0.0\"></circle></g><g class=\"toyplot-Datum\" style=\"fill:rgb(40%,76.1%,64.7%);fill-opacity:1.0;opacity:1.0;stroke:rgb(40%,76.1%,64.7%);stroke-opacity:1.0\" transform=\"translate(184.89425025329277, 50.0)\"><circle r=\"0.0\"></circle></g><g class=\"toyplot-Datum\" style=\"fill:rgb(40%,76.1%,64.7%);fill-opacity:1.0;opacity:1.0;stroke:rgb(40%,76.1%,64.7%);stroke-opacity:1.0\" transform=\"translate(250.85591860857812, 50.0)\"><circle r=\"0.0\"></circle></g><g class=\"toyplot-Datum\" style=\"fill:rgb(40%,76.1%,64.7%);fill-opacity:1.0;opacity:1.0;stroke:rgb(40%,76.1%,64.7%);stroke-opacity:1.0\" transform=\"translate(118.93258189800741, 50.0)\"><circle r=\"0.0\"></circle></g><g class=\"toyplot-Datum\" style=\"fill:rgb(40%,76.1%,64.7%);fill-opacity:1.0;opacity:1.0;stroke:rgb(40%,76.1%,64.7%);stroke-opacity:1.0\" transform=\"translate(280.53866936845657, 86.36363636363637)\"><circle r=\"0.0\"></circle></g><g class=\"toyplot-Datum\" style=\"fill:rgb(40%,76.1%,64.7%);fill-opacity:1.0;opacity:1.0;stroke:rgb(40%,76.1%,64.7%);stroke-opacity:1.0\" transform=\"translate(221.17316784869973, 86.36363636363637)\"><circle r=\"0.0\"></circle></g><g class=\"toyplot-Datum\" style=\"fill:rgb(40%,76.1%,64.7%);fill-opacity:1.0;opacity:1.0;stroke:rgb(40%,76.1%,64.7%);stroke-opacity:1.0\" transform=\"translate(148.6153326578858, 86.36363636363637)\"><circle r=\"0.0\"></circle></g><g class=\"toyplot-Datum\" style=\"fill:rgb(40%,76.1%,64.7%);fill-opacity:1.0;opacity:1.0;stroke:rgb(40%,76.1%,64.7%);stroke-opacity:1.0\" transform=\"translate(89.249831138129, 86.36363636363637)\"><circle r=\"0.0\"></circle></g><g class=\"toyplot-Datum\" style=\"fill:rgb(40%,76.1%,64.7%);fill-opacity:1.0;opacity:1.0;stroke:rgb(40%,76.1%,64.7%);stroke-opacity:1.0\" transform=\"translate(293.7310030395136, 122.72727272727273)\"><circle r=\"0.0\"></circle></g><g class=\"toyplot-Datum\" style=\"fill:rgb(40%,76.1%,64.7%);fill-opacity:1.0;opacity:1.0;stroke:rgb(40%,76.1%,64.7%);stroke-opacity:1.0\" transform=\"translate(267.34633569739947, 122.72727272727273)\"><circle r=\"0.0\"></circle></g><g class=\"toyplot-Datum\" style=\"fill:rgb(40%,76.1%,64.7%);fill-opacity:1.0;opacity:1.0;stroke:rgb(40%,76.1%,64.7%);stroke-opacity:1.0\" transform=\"translate(240.96166835528533, 122.72727272727273)\"><circle r=\"0.0\"></circle></g><g class=\"toyplot-Datum\" style=\"fill:rgb(40%,76.1%,64.7%);fill-opacity:1.0;opacity:1.0;stroke:rgb(40%,76.1%,64.7%);stroke-opacity:1.0\" transform=\"translate(201.3846673421141, 122.72727272727273)\"><circle r=\"0.0\"></circle></g><g class=\"toyplot-Datum\" style=\"fill:rgb(40%,76.1%,64.7%);fill-opacity:1.0;opacity:1.0;stroke:rgb(40%,76.1%,64.7%);stroke-opacity:1.0\" transform=\"translate(161.8076663289429, 122.72727272727273)\"><circle r=\"0.0\"></circle></g><g class=\"toyplot-Datum\" style=\"fill:rgb(40%,76.1%,64.7%);fill-opacity:1.0;opacity:1.0;stroke:rgb(40%,76.1%,64.7%);stroke-opacity:1.0\" transform=\"translate(135.42299898682876, 122.72727272727273)\"><circle r=\"0.0\"></circle></g><g class=\"toyplot-Datum\" style=\"fill:rgb(40%,76.1%,64.7%);fill-opacity:1.0;opacity:1.0;stroke:rgb(40%,76.1%,64.7%);stroke-opacity:1.0\" transform=\"translate(109.03833164471462, 122.72727272727273)\"><circle r=\"0.0\"></circle></g><g class=\"toyplot-Datum\" style=\"fill:rgb(40%,76.1%,64.7%);fill-opacity:1.0;opacity:1.0;stroke:rgb(40%,76.1%,64.7%);stroke-opacity:1.0\" transform=\"translate(69.46133063154339, 122.72727272727273)\"><circle r=\"0.0\"></circle></g><g class=\"toyplot-Datum\" style=\"fill:rgb(40%,76.1%,64.7%);fill-opacity:1.0;opacity:1.0;stroke:rgb(40%,76.1%,64.7%);stroke-opacity:1.0\" transform=\"translate(214.57700101317118, 159.0909090909091)\"><circle r=\"0.0\"></circle></g><g class=\"toyplot-Datum\" style=\"fill:rgb(40%,76.1%,64.7%);fill-opacity:1.0;opacity:1.0;stroke:rgb(40%,76.1%,64.7%);stroke-opacity:1.0\" transform=\"translate(188.19233367105704, 159.0909090909091)\"><circle r=\"0.0\"></circle></g><g class=\"toyplot-Datum\" style=\"fill:rgb(40%,76.1%,64.7%);fill-opacity:1.0;opacity:1.0;stroke:rgb(40%,76.1%,64.7%);stroke-opacity:1.0\" transform=\"translate(82.65366430260046, 159.0909090909091)\"><circle r=\"0.0\"></circle></g><g class=\"toyplot-Datum\" style=\"fill:rgb(40%,76.1%,64.7%);fill-opacity:1.0;opacity:1.0;stroke:rgb(40%,76.1%,64.7%);stroke-opacity:1.0\" transform=\"translate(56.26899696048632, 159.0909090909091)\"><circle r=\"0.0\"></circle></g></g></g><g class=\"toyplot-mark-Text\" id=\"td4286f94c72a408d82a87bbd3a790994\"><g class=\"toyplot-Series\"><g class=\"toyplot-Datum\" transform=\"translate(56.26899696048632,195.45454545454544)rotate(90.0)\"><text style=\"fill:rgb(14.9%,14.9%,14.9%);fill-opacity:1.0;font-family:helvetica;font-size:11.0px;font-weight:normal;opacity:1;stroke:none;vertical-align:baseline;white-space:pre\" x=\"15.0\" y=\"2.8104999999999993\">r3</text></g><g class=\"toyplot-Datum\" transform=\"translate(82.65366430260046,195.45454545454544)rotate(90.0)\"><text style=\"fill:rgb(14.9%,14.9%,14.9%);fill-opacity:1.0;font-family:helvetica;font-size:11.0px;font-weight:normal;opacity:1;stroke:none;vertical-align:baseline;white-space:pre\" x=\"15.0\" y=\"2.8104999999999993\">r4</text></g><g class=\"toyplot-Datum\" transform=\"translate(109.03833164471462,195.45454545454544)rotate(90.0)\"><text style=\"fill:rgb(14.9%,14.9%,14.9%);fill-opacity:1.0;font-family:helvetica;font-size:11.0px;font-weight:normal;opacity:1;stroke:none;vertical-align:baseline;white-space:pre\" x=\"15.0\" y=\"2.8104999999999993\">r2</text></g><g class=\"toyplot-Datum\" transform=\"translate(135.42299898682876,195.45454545454544)rotate(90.0)\"><text style=\"fill:rgb(14.9%,14.9%,14.9%);fill-opacity:1.0;font-family:helvetica;font-size:11.0px;font-weight:normal;opacity:1;stroke:none;vertical-align:baseline;white-space:pre\" x=\"15.0\" y=\"2.8104999999999993\">r0</text></g><g class=\"toyplot-Datum\" transform=\"translate(161.8076663289429,195.45454545454544)rotate(90.0)\"><text style=\"fill:rgb(14.9%,14.9%,14.9%);fill-opacity:1.0;font-family:helvetica;font-size:11.0px;font-weight:normal;opacity:1;stroke:none;vertical-align:baseline;white-space:pre\" x=\"15.0\" y=\"2.8104999999999993\">r1</text></g><g class=\"toyplot-Datum\" transform=\"translate(188.19233367105704,195.45454545454544)rotate(90.0)\"><text style=\"fill:rgb(14.9%,14.9%,14.9%);fill-opacity:1.0;font-family:helvetica;font-size:11.0px;font-weight:normal;opacity:1;stroke:none;vertical-align:baseline;white-space:pre\" x=\"15.0\" y=\"2.8104999999999993\">r8</text></g><g class=\"toyplot-Datum\" transform=\"translate(214.57700101317118,195.45454545454544)rotate(90.0)\"><text style=\"fill:rgb(14.9%,14.9%,14.9%);fill-opacity:1.0;font-family:helvetica;font-size:11.0px;font-weight:normal;opacity:1;stroke:none;vertical-align:baseline;white-space:pre\" x=\"15.0\" y=\"2.8104999999999993\">r9</text></g><g class=\"toyplot-Datum\" transform=\"translate(240.96166835528533,195.45454545454544)rotate(90.0)\"><text style=\"fill:rgb(14.9%,14.9%,14.9%);fill-opacity:1.0;font-family:helvetica;font-size:11.0px;font-weight:normal;opacity:1;stroke:none;vertical-align:baseline;white-space:pre\" x=\"15.0\" y=\"2.8104999999999993\">r7</text></g><g class=\"toyplot-Datum\" transform=\"translate(267.34633569739947,195.45454545454544)rotate(90.0)\"><text style=\"fill:rgb(14.9%,14.9%,14.9%);fill-opacity:1.0;font-family:helvetica;font-size:11.0px;font-weight:normal;opacity:1;stroke:none;vertical-align:baseline;white-space:pre\" x=\"15.0\" y=\"2.8104999999999993\">r5</text></g><g class=\"toyplot-Datum\" transform=\"translate(293.7310030395136,195.45454545454544)rotate(90.0)\"><text style=\"fill:rgb(14.9%,14.9%,14.9%);fill-opacity:1.0;font-family:helvetica;font-size:11.0px;font-weight:normal;opacity:1;stroke:none;vertical-align:baseline;white-space:pre\" x=\"15.0\" y=\"2.8104999999999993\">r6</text></g></g></g><g class=\"toyplot-mark-Point\" id=\"t89186b4552544ef48050ded0c01d17b1\"><g class=\"toyplot-Series\"><g class=\"toyplot-Datum\" style=\"fill:rgb(40%,76.1%,64.7%);fill-opacity:1.0;opacity:1.0;stroke:rgb(14.9%,14.9%,14.9%);stroke-opacity:1.0;stroke-width:1\" transform=\"translate(56.26899696048632, 195.45454545454544)\"><title>idx: 0\n",
       "name: r3\n",
       "dist: 500000\n",
       "support: 0\n",
       "Ne: 500000\n",
       "height: 0</title><circle r=\"7.5\"></circle><g><text style=\"fill:rgb(14.9%,14.9%,14.9%);fill-opacity:1.0;font-family:helvetica;font-size:9.0px;font-weight:normal;stroke:none;vertical-align:baseline;white-space:pre\" x=\"-2.5020000000000002\" y=\"2.2995\">0</text></g></g><g class=\"toyplot-Datum\" style=\"fill:rgb(40%,76.1%,64.7%);fill-opacity:1.0;opacity:1.0;stroke:rgb(14.9%,14.9%,14.9%);stroke-opacity:1.0;stroke-width:1\" transform=\"translate(82.65366430260046, 195.45454545454544)\"><title>idx: 1\n",
       "name: r4\n",
       "dist: 500000\n",
       "support: 0\n",
       "Ne: 500000\n",
       "height: 0</title><circle r=\"7.5\"></circle><g><text style=\"fill:rgb(14.9%,14.9%,14.9%);fill-opacity:1.0;font-family:helvetica;font-size:9.0px;font-weight:normal;stroke:none;vertical-align:baseline;white-space:pre\" x=\"-2.5020000000000002\" y=\"2.2995\">1</text></g></g><g class=\"toyplot-Datum\" style=\"fill:rgb(40%,76.1%,64.7%);fill-opacity:1.0;opacity:1.0;stroke:rgb(14.9%,14.9%,14.9%);stroke-opacity:1.0;stroke-width:1\" transform=\"translate(109.03833164471462, 195.45454545454544)\"><title>idx: 2\n",
       "name: r2\n",
       "dist: 1000000\n",
       "support: 0\n",
       "Ne: 500000\n",
       "height: 0</title><circle r=\"7.5\"></circle><g><text style=\"fill:rgb(14.9%,14.9%,14.9%);fill-opacity:1.0;font-family:helvetica;font-size:9.0px;font-weight:normal;stroke:none;vertical-align:baseline;white-space:pre\" x=\"-2.5020000000000002\" y=\"2.2995\">2</text></g></g><g class=\"toyplot-Datum\" style=\"fill:rgb(40%,76.1%,64.7%);fill-opacity:1.0;opacity:1.0;stroke:rgb(14.9%,14.9%,14.9%);stroke-opacity:1.0;stroke-width:1\" transform=\"translate(135.42299898682876, 195.45454545454544)\"><title>idx: 3\n",
       "name: r0\n",
       "dist: 1000000\n",
       "support: 0\n",
       "Ne: 500000\n",
       "height: 0</title><circle r=\"7.5\"></circle><g><text style=\"fill:rgb(14.9%,14.9%,14.9%);fill-opacity:1.0;font-family:helvetica;font-size:9.0px;font-weight:normal;stroke:none;vertical-align:baseline;white-space:pre\" x=\"-2.5020000000000002\" y=\"2.2995\">3</text></g></g><g class=\"toyplot-Datum\" style=\"fill:rgb(40%,76.1%,64.7%);fill-opacity:1.0;opacity:1.0;stroke:rgb(14.9%,14.9%,14.9%);stroke-opacity:1.0;stroke-width:1\" transform=\"translate(161.8076663289429, 195.45454545454544)\"><title>idx: 4\n",
       "name: r1\n",
       "dist: 1000000\n",
       "support: 0\n",
       "Ne: 500000\n",
       "height: 0</title><circle r=\"7.5\"></circle><g><text style=\"fill:rgb(14.9%,14.9%,14.9%);fill-opacity:1.0;font-family:helvetica;font-size:9.0px;font-weight:normal;stroke:none;vertical-align:baseline;white-space:pre\" x=\"-2.5020000000000002\" y=\"2.2995\">4</text></g></g><g class=\"toyplot-Datum\" style=\"fill:rgb(40%,76.1%,64.7%);fill-opacity:1.0;opacity:1.0;stroke:rgb(14.9%,14.9%,14.9%);stroke-opacity:1.0;stroke-width:1\" transform=\"translate(188.19233367105704, 195.45454545454544)\"><title>idx: 5\n",
       "name: r8\n",
       "dist: 500000\n",
       "support: 0\n",
       "Ne: 500000\n",
       "height: 0</title><circle r=\"7.5\"></circle><g><text style=\"fill:rgb(14.9%,14.9%,14.9%);fill-opacity:1.0;font-family:helvetica;font-size:9.0px;font-weight:normal;stroke:none;vertical-align:baseline;white-space:pre\" x=\"-2.5020000000000002\" y=\"2.2995\">5</text></g></g><g class=\"toyplot-Datum\" style=\"fill:rgb(40%,76.1%,64.7%);fill-opacity:1.0;opacity:1.0;stroke:rgb(14.9%,14.9%,14.9%);stroke-opacity:1.0;stroke-width:1\" transform=\"translate(214.57700101317118, 195.45454545454544)\"><title>idx: 6\n",
       "name: r9\n",
       "dist: 500000\n",
       "support: 0\n",
       "Ne: 500000\n",
       "height: 0</title><circle r=\"7.5\"></circle><g><text style=\"fill:rgb(14.9%,14.9%,14.9%);fill-opacity:1.0;font-family:helvetica;font-size:9.0px;font-weight:normal;stroke:none;vertical-align:baseline;white-space:pre\" x=\"-2.5020000000000002\" y=\"2.2995\">6</text></g></g><g class=\"toyplot-Datum\" style=\"fill:rgb(40%,76.1%,64.7%);fill-opacity:1.0;opacity:1.0;stroke:rgb(14.9%,14.9%,14.9%);stroke-opacity:1.0;stroke-width:1\" transform=\"translate(240.96166835528533, 195.45454545454544)\"><title>idx: 7\n",
       "name: r7\n",
       "dist: 1000000\n",
       "support: 0\n",
       "Ne: 500000\n",
       "height: 0</title><circle r=\"7.5\"></circle><g><text style=\"fill:rgb(14.9%,14.9%,14.9%);fill-opacity:1.0;font-family:helvetica;font-size:9.0px;font-weight:normal;stroke:none;vertical-align:baseline;white-space:pre\" x=\"-2.5020000000000002\" y=\"2.2995\">7</text></g></g><g class=\"toyplot-Datum\" style=\"fill:rgb(40%,76.1%,64.7%);fill-opacity:1.0;opacity:1.0;stroke:rgb(14.9%,14.9%,14.9%);stroke-opacity:1.0;stroke-width:1\" transform=\"translate(267.34633569739947, 195.45454545454544)\"><title>idx: 8\n",
       "name: r5\n",
       "dist: 1000000\n",
       "support: 0\n",
       "Ne: 500000\n",
       "height: 0</title><circle r=\"7.5\"></circle><g><text style=\"fill:rgb(14.9%,14.9%,14.9%);fill-opacity:1.0;font-family:helvetica;font-size:9.0px;font-weight:normal;stroke:none;vertical-align:baseline;white-space:pre\" x=\"-2.5020000000000002\" y=\"2.2995\">8</text></g></g><g class=\"toyplot-Datum\" style=\"fill:rgb(40%,76.1%,64.7%);fill-opacity:1.0;opacity:1.0;stroke:rgb(14.9%,14.9%,14.9%);stroke-opacity:1.0;stroke-width:1\" transform=\"translate(293.7310030395136, 195.45454545454544)\"><title>idx: 9\n",
       "name: r6\n",
       "dist: 1000000\n",
       "support: 0\n",
       "Ne: 500000\n",
       "height: 0</title><circle r=\"7.5\"></circle><g><text style=\"fill:rgb(14.9%,14.9%,14.9%);fill-opacity:1.0;font-family:helvetica;font-size:9.0px;font-weight:normal;stroke:none;vertical-align:baseline;white-space:pre\" x=\"-2.5020000000000002\" y=\"2.2995\">9</text></g></g><g class=\"toyplot-Datum\" style=\"fill:rgb(40%,76.1%,64.7%);fill-opacity:1.0;opacity:1.0;stroke:rgb(14.9%,14.9%,14.9%);stroke-opacity:1.0;stroke-width:1\" transform=\"translate(69.46133063154339, 159.0909090909091)\"><title>idx: 10\n",
       "name: 10\n",
       "dist: 500000\n",
       "support: 10\n",
       "Ne: 500000\n",
       "height: 500000</title><circle r=\"7.5\"></circle><g><text style=\"fill:rgb(14.9%,14.9%,14.9%);fill-opacity:1.0;font-family:helvetica;font-size:9.0px;font-weight:normal;stroke:none;vertical-align:baseline;white-space:pre\" x=\"-5.0040000000000004\" y=\"2.2995\">10</text></g></g><g class=\"toyplot-Datum\" style=\"fill:rgb(40%,76.1%,64.7%);fill-opacity:1.0;opacity:1.0;stroke:rgb(14.9%,14.9%,14.9%);stroke-opacity:1.0;stroke-width:1\" transform=\"translate(201.3846673421141, 159.0909090909091)\"><title>idx: 11\n",
       "name: 11\n",
       "dist: 500000\n",
       "support: 11\n",
       "Ne: 500000\n",
       "height: 500000</title><circle r=\"7.5\"></circle><g><text style=\"fill:rgb(14.9%,14.9%,14.9%);fill-opacity:1.0;font-family:helvetica;font-size:9.0px;font-weight:normal;stroke:none;vertical-align:baseline;white-space:pre\" x=\"-5.0040000000000004\" y=\"2.2995\">11</text></g></g><g class=\"toyplot-Datum\" style=\"fill:rgb(40%,76.1%,64.7%);fill-opacity:1.0;opacity:1.0;stroke:rgb(14.9%,14.9%,14.9%);stroke-opacity:1.0;stroke-width:1\" transform=\"translate(89.249831138129, 122.72727272727273)\"><title>idx: 12\n",
       "name: 12\n",
       "dist: 500000\n",
       "support: 12\n",
       "Ne: 500000\n",
       "height: 1000000</title><circle r=\"7.5\"></circle><g><text style=\"fill:rgb(14.9%,14.9%,14.9%);fill-opacity:1.0;font-family:helvetica;font-size:9.0px;font-weight:normal;stroke:none;vertical-align:baseline;white-space:pre\" x=\"-5.0040000000000004\" y=\"2.2995\">12</text></g></g><g class=\"toyplot-Datum\" style=\"fill:rgb(40%,76.1%,64.7%);fill-opacity:1.0;opacity:1.0;stroke:rgb(14.9%,14.9%,14.9%);stroke-opacity:1.0;stroke-width:1\" transform=\"translate(148.6153326578858, 122.72727272727273)\"><title>idx: 13\n",
       "name: 13\n",
       "dist: 500000\n",
       "support: 13\n",
       "Ne: 500000\n",
       "height: 1000000</title><circle r=\"7.5\"></circle><g><text style=\"fill:rgb(14.9%,14.9%,14.9%);fill-opacity:1.0;font-family:helvetica;font-size:9.0px;font-weight:normal;stroke:none;vertical-align:baseline;white-space:pre\" x=\"-5.0040000000000004\" y=\"2.2995\">13</text></g></g><g class=\"toyplot-Datum\" style=\"fill:rgb(40%,76.1%,64.7%);fill-opacity:1.0;opacity:1.0;stroke:rgb(14.9%,14.9%,14.9%);stroke-opacity:1.0;stroke-width:1\" transform=\"translate(221.17316784869973, 122.72727272727273)\"><title>idx: 14\n",
       "name: 14\n",
       "dist: 500000\n",
       "support: 14\n",
       "Ne: 500000\n",
       "height: 1000000</title><circle r=\"7.5\"></circle><g><text style=\"fill:rgb(14.9%,14.9%,14.9%);fill-opacity:1.0;font-family:helvetica;font-size:9.0px;font-weight:normal;stroke:none;vertical-align:baseline;white-space:pre\" x=\"-5.0040000000000004\" y=\"2.2995\">14</text></g></g><g class=\"toyplot-Datum\" style=\"fill:rgb(40%,76.1%,64.7%);fill-opacity:1.0;opacity:1.0;stroke:rgb(14.9%,14.9%,14.9%);stroke-opacity:1.0;stroke-width:1\" transform=\"translate(280.53866936845657, 122.72727272727273)\"><title>idx: 15\n",
       "name: 15\n",
       "dist: 500000\n",
       "support: 15\n",
       "Ne: 500000\n",
       "height: 1000000</title><circle r=\"7.5\"></circle><g><text style=\"fill:rgb(14.9%,14.9%,14.9%);fill-opacity:1.0;font-family:helvetica;font-size:9.0px;font-weight:normal;stroke:none;vertical-align:baseline;white-space:pre\" x=\"-5.0040000000000004\" y=\"2.2995\">15</text></g></g><g class=\"toyplot-Datum\" style=\"fill:rgb(40%,76.1%,64.7%);fill-opacity:1.0;opacity:1.0;stroke:rgb(14.9%,14.9%,14.9%);stroke-opacity:1.0;stroke-width:1\" transform=\"translate(118.93258189800741, 86.36363636363637)\"><title>idx: 16\n",
       "name: 16\n",
       "dist: 500000\n",
       "support: 16\n",
       "Ne: 500000\n",
       "height: 1500000</title><circle r=\"7.5\"></circle><g><text style=\"fill:rgb(14.9%,14.9%,14.9%);fill-opacity:1.0;font-family:helvetica;font-size:9.0px;font-weight:normal;stroke:none;vertical-align:baseline;white-space:pre\" x=\"-5.0040000000000004\" y=\"2.2995\">16</text></g></g><g class=\"toyplot-Datum\" style=\"fill:rgb(40%,76.1%,64.7%);fill-opacity:1.0;opacity:1.0;stroke:rgb(14.9%,14.9%,14.9%);stroke-opacity:1.0;stroke-width:1\" transform=\"translate(250.85591860857812, 86.36363636363637)\"><title>idx: 17\n",
       "name: 17\n",
       "dist: 500000\n",
       "support: 17\n",
       "Ne: 500000\n",
       "height: 1500000</title><circle r=\"7.5\"></circle><g><text style=\"fill:rgb(14.9%,14.9%,14.9%);fill-opacity:1.0;font-family:helvetica;font-size:9.0px;font-weight:normal;stroke:none;vertical-align:baseline;white-space:pre\" x=\"-5.0040000000000004\" y=\"2.2995\">17</text></g></g><g class=\"toyplot-Datum\" style=\"fill:rgb(40%,76.1%,64.7%);fill-opacity:1.0;opacity:1.0;stroke:rgb(14.9%,14.9%,14.9%);stroke-opacity:1.0;stroke-width:1\" transform=\"translate(184.89425025329277, 50.0)\"><title>idx: 18\n",
       "name: 18\n",
       "dist: 1\n",
       "support: 0\n",
       "Ne: 500000\n",
       "height: 2000000</title><circle r=\"7.5\"></circle><g><text style=\"fill:rgb(14.9%,14.9%,14.9%);fill-opacity:1.0;font-family:helvetica;font-size:9.0px;font-weight:normal;stroke:none;vertical-align:baseline;white-space:pre\" x=\"-5.0040000000000004\" y=\"2.2995\">18</text></g></g></g></g></g><g class=\"toyplot-coordinates-Axis\" id=\"tbf5e8d19e5084149bcbc1fdab1527f97\" transform=\"translate(50.0,210.0)rotate(-90.0)translate(0,-20.0)\"><line style=\"\" x1=\"14.545454545454547\" x2=\"160.0\" y1=\"0\" y2=\"0\"></line><g><line style=\"\" x1=\"14.545454545454547\" x2=\"14.545454545454547\" y1=\"0\" y2=\"5\"></line><line style=\"\" x1=\"87.27272727272727\" x2=\"87.27272727272727\" y1=\"0\" y2=\"5\"></line><line style=\"\" x1=\"160.0\" x2=\"160.0\" y1=\"0\" y2=\"5\"></line></g><g><g transform=\"translate(14.545454545454547,-6)\"><text style=\"fill:rgb(16.1%,15.3%,14.1%);fill-opacity:1.0;font-family:helvetica;font-size:10.0px;font-weight:normal;stroke:none;vertical-align:baseline;white-space:pre\" x=\"-2.78\" y=\"-4.440892098500626e-16\">0</text></g><g transform=\"translate(87.27272727272727,-6)\"><text style=\"fill:rgb(16.1%,15.3%,14.1%);fill-opacity:1.0;font-family:helvetica;font-size:10.0px;font-weight:normal;stroke:none;vertical-align:baseline;white-space:pre\" x=\"-19.459999999999997\" y=\"-4.440892098500626e-16\">1000000</text></g><g transform=\"translate(160.0,-6)\"><text style=\"fill:rgb(16.1%,15.3%,14.1%);fill-opacity:1.0;font-family:helvetica;font-size:10.0px;font-weight:normal;stroke:none;vertical-align:baseline;white-space:pre\" x=\"-19.459999999999997\" y=\"-4.440892098500626e-16\">2000000</text></g></g><g class=\"toyplot-coordinates-Axis-coordinates\" style=\"visibility:hidden\" transform=\"\"><line style=\"stroke:rgb(43.9%,50.2%,56.5%);stroke-opacity:1.0;stroke-width:1.0\" x1=\"0\" x2=\"0\" y1=\"3.0\" y2=\"-4.5\"></line><text style=\"alignment-baseline:hanging;fill:rgb(43.9%,50.2%,56.5%);fill-opacity:1.0;font-size:10px;font-weight:normal;stroke:none;text-anchor:middle\" x=\"0\" y=\"6\"></text></g></g></g></svg><div class=\"toyplot-behavior\"><script>(function()\n",
       "{\n",
       "var modules={};\n",
       "modules[\"toyplot/tables\"] = (function()\n",
       "    {\n",
       "        var tables = [];\n",
       "\n",
       "        var module = {};\n",
       "\n",
       "        module.set = function(owner, key, names, columns)\n",
       "        {\n",
       "            tables.push({owner: owner, key: key, names: names, columns: columns});\n",
       "        }\n",
       "\n",
       "        module.get = function(owner, key)\n",
       "        {\n",
       "            for(var i = 0; i != tables.length; ++i)\n",
       "            {\n",
       "                var table = tables[i];\n",
       "                if(table.owner != owner)\n",
       "                    continue;\n",
       "                if(table.key != key)\n",
       "                    continue;\n",
       "                return {names: table.names, columns: table.columns};\n",
       "            }\n",
       "        }\n",
       "\n",
       "        module.get_csv = function(owner, key)\n",
       "        {\n",
       "            var table = module.get(owner, key);\n",
       "            if(table != undefined)\n",
       "            {\n",
       "                var csv = \"\";\n",
       "                csv += table.names.join(\",\") + \"\\n\";\n",
       "                for(var i = 0; i != table.columns[0].length; ++i)\n",
       "                {\n",
       "                  for(var j = 0; j != table.columns.length; ++j)\n",
       "                  {\n",
       "                    if(j)\n",
       "                      csv += \",\";\n",
       "                    csv += table.columns[j][i];\n",
       "                  }\n",
       "                  csv += \"\\n\";\n",
       "                }\n",
       "                return csv;\n",
       "            }\n",
       "        }\n",
       "\n",
       "        return module;\n",
       "    })();\n",
       "modules[\"toyplot/root/id\"] = \"tdb874cf34620497dbe3049bd55b043de\";\n",
       "modules[\"toyplot/root\"] = (function(root_id)\n",
       "    {\n",
       "        return document.querySelector(\"#\" + root_id);\n",
       "    })(modules[\"toyplot/root/id\"]);\n",
       "modules[\"toyplot/canvas/id\"] = \"t41e3594ae21b400f930c083eb75976cb\";\n",
       "modules[\"toyplot/canvas\"] = (function(canvas_id)\n",
       "    {\n",
       "        return document.querySelector(\"#\" + canvas_id);\n",
       "    })(modules[\"toyplot/canvas/id\"]);\n",
       "modules[\"toyplot/menus/context\"] = (function(root, canvas)\n",
       "    {\n",
       "        var wrapper = document.createElement(\"div\");\n",
       "        wrapper.innerHTML = \"<ul class='toyplot-context-menu' style='background:#eee; border:1px solid #b8b8b8; border-radius:5px; box-shadow: 0px 0px 8px rgba(0%,0%,0%,0.25); margin:0; padding:3px 0; position:fixed; visibility:hidden;'></ul>\"\n",
       "        var menu = wrapper.firstChild;\n",
       "\n",
       "        root.appendChild(menu);\n",
       "\n",
       "        var items = [];\n",
       "\n",
       "        var ignore_mouseup = null;\n",
       "        function open_menu(e)\n",
       "        {\n",
       "            var show_menu = false;\n",
       "            for(var index=0; index != items.length; ++index)\n",
       "            {\n",
       "                var item = items[index];\n",
       "                if(item.show(e))\n",
       "                {\n",
       "                    item.item.style.display = \"block\";\n",
       "                    show_menu = true;\n",
       "                }\n",
       "                else\n",
       "                {\n",
       "                    item.item.style.display = \"none\";\n",
       "                }\n",
       "            }\n",
       "\n",
       "            if(show_menu)\n",
       "            {\n",
       "                ignore_mouseup = true;\n",
       "                menu.style.left = (e.clientX + 1) + \"px\";\n",
       "                menu.style.top = (e.clientY - 5) + \"px\";\n",
       "                menu.style.visibility = \"visible\";\n",
       "                e.stopPropagation();\n",
       "                e.preventDefault();\n",
       "            }\n",
       "        }\n",
       "\n",
       "        function close_menu()\n",
       "        {\n",
       "            menu.style.visibility = \"hidden\";\n",
       "        }\n",
       "\n",
       "        function contextmenu(e)\n",
       "        {\n",
       "            open_menu(e);\n",
       "        }\n",
       "\n",
       "        function mousemove(e)\n",
       "        {\n",
       "            ignore_mouseup = false;\n",
       "        }\n",
       "\n",
       "        function mouseup(e)\n",
       "        {\n",
       "            if(ignore_mouseup)\n",
       "            {\n",
       "                ignore_mouseup = false;\n",
       "                return;\n",
       "            }\n",
       "            close_menu();\n",
       "        }\n",
       "\n",
       "        function keydown(e)\n",
       "        {\n",
       "            if(e.key == \"Escape\" || e.key == \"Esc\" || e.keyCode == 27)\n",
       "            {\n",
       "                close_menu();\n",
       "            }\n",
       "        }\n",
       "\n",
       "        canvas.addEventListener(\"contextmenu\", contextmenu);\n",
       "        canvas.addEventListener(\"mousemove\", mousemove);\n",
       "        document.addEventListener(\"mouseup\", mouseup);\n",
       "        document.addEventListener(\"keydown\", keydown);\n",
       "\n",
       "        var module = {};\n",
       "        module.add_item = function(label, show, activate)\n",
       "        {\n",
       "            var wrapper = document.createElement(\"div\");\n",
       "            wrapper.innerHTML = \"<li class='toyplot-context-menu-item' style='background:#eee; color:#333; padding:2px 20px; list-style:none; margin:0; text-align:left;'>\" + label + \"</li>\"\n",
       "            var item = wrapper.firstChild;\n",
       "\n",
       "            items.push({item: item, show: show});\n",
       "\n",
       "            function mouseover()\n",
       "            {\n",
       "                this.style.background = \"steelblue\";\n",
       "                this.style.color = \"white\";\n",
       "            }\n",
       "\n",
       "            function mouseout()\n",
       "            {\n",
       "                this.style.background = \"#eee\";\n",
       "                this.style.color = \"#333\";\n",
       "            }\n",
       "\n",
       "            function choose_item(e)\n",
       "            {\n",
       "                close_menu();\n",
       "                activate();\n",
       "\n",
       "                e.stopPropagation();\n",
       "                e.preventDefault();\n",
       "            }\n",
       "\n",
       "            item.addEventListener(\"mouseover\", mouseover);\n",
       "            item.addEventListener(\"mouseout\", mouseout);\n",
       "            item.addEventListener(\"mouseup\", choose_item);\n",
       "            item.addEventListener(\"contextmenu\", choose_item);\n",
       "\n",
       "            menu.appendChild(item);\n",
       "        };\n",
       "        return module;\n",
       "    })(modules[\"toyplot/root\"],modules[\"toyplot/canvas\"]);\n",
       "modules[\"toyplot/io\"] = (function()\n",
       "    {\n",
       "        var module = {};\n",
       "        module.save_file = function(mime_type, charset, data, filename)\n",
       "        {\n",
       "            var uri = \"data:\" + mime_type + \";charset=\" + charset + \",\" + data;\n",
       "            uri = encodeURI(uri);\n",
       "\n",
       "            var link = document.createElement(\"a\");\n",
       "            if(typeof link.download != \"undefined\")\n",
       "            {\n",
       "              link.href = uri;\n",
       "              link.style = \"visibility:hidden\";\n",
       "              link.download = filename;\n",
       "\n",
       "              document.body.appendChild(link);\n",
       "              link.click();\n",
       "              document.body.removeChild(link);\n",
       "            }\n",
       "            else\n",
       "            {\n",
       "              window.open(uri);\n",
       "            }\n",
       "        };\n",
       "        return module;\n",
       "    })();\n",
       "modules[\"toyplot.coordinates.Axis\"] = (\n",
       "        function(canvas)\n",
       "        {\n",
       "            function sign(x)\n",
       "            {\n",
       "                return x < 0 ? -1 : x > 0 ? 1 : 0;\n",
       "            }\n",
       "\n",
       "            function mix(a, b, amount)\n",
       "            {\n",
       "                return ((1.0 - amount) * a) + (amount * b);\n",
       "            }\n",
       "\n",
       "            function log(x, base)\n",
       "            {\n",
       "                return Math.log(Math.abs(x)) / Math.log(base);\n",
       "            }\n",
       "\n",
       "            function in_range(a, x, b)\n",
       "            {\n",
       "                var left = Math.min(a, b);\n",
       "                var right = Math.max(a, b);\n",
       "                return left <= x && x <= right;\n",
       "            }\n",
       "\n",
       "            function inside(range, projection)\n",
       "            {\n",
       "                for(var i = 0; i != projection.length; ++i)\n",
       "                {\n",
       "                    var segment = projection[i];\n",
       "                    if(in_range(segment.range.min, range, segment.range.max))\n",
       "                        return true;\n",
       "                }\n",
       "                return false;\n",
       "            }\n",
       "\n",
       "            function to_domain(range, projection)\n",
       "            {\n",
       "                for(var i = 0; i != projection.length; ++i)\n",
       "                {\n",
       "                    var segment = projection[i];\n",
       "                    if(in_range(segment.range.bounds.min, range, segment.range.bounds.max))\n",
       "                    {\n",
       "                        if(segment.scale == \"linear\")\n",
       "                        {\n",
       "                            var amount = (range - segment.range.min) / (segment.range.max - segment.range.min);\n",
       "                            return mix(segment.domain.min, segment.domain.max, amount)\n",
       "                        }\n",
       "                        else if(segment.scale[0] == \"log\")\n",
       "                        {\n",
       "                            var amount = (range - segment.range.min) / (segment.range.max - segment.range.min);\n",
       "                            var base = segment.scale[1];\n",
       "                            return sign(segment.domain.min) * Math.pow(base, mix(log(segment.domain.min, base), log(segment.domain.max, base), amount));\n",
       "                        }\n",
       "                    }\n",
       "                }\n",
       "            }\n",
       "\n",
       "            var axes = {};\n",
       "\n",
       "            function display_coordinates(e)\n",
       "            {\n",
       "                var current = canvas.createSVGPoint();\n",
       "                current.x = e.clientX;\n",
       "                current.y = e.clientY;\n",
       "\n",
       "                for(var axis_id in axes)\n",
       "                {\n",
       "                    var axis = document.querySelector(\"#\" + axis_id);\n",
       "                    var coordinates = axis.querySelector(\".toyplot-coordinates-Axis-coordinates\");\n",
       "                    if(coordinates)\n",
       "                    {\n",
       "                        var projection = axes[axis_id];\n",
       "                        var local = current.matrixTransform(axis.getScreenCTM().inverse());\n",
       "                        if(inside(local.x, projection))\n",
       "                        {\n",
       "                            var domain = to_domain(local.x, projection);\n",
       "                            coordinates.style.visibility = \"visible\";\n",
       "                            coordinates.setAttribute(\"transform\", \"translate(\" + local.x + \")\");\n",
       "                            var text = coordinates.querySelector(\"text\");\n",
       "                            text.textContent = domain.toFixed(2);\n",
       "                        }\n",
       "                        else\n",
       "                        {\n",
       "                            coordinates.style.visibility= \"hidden\";\n",
       "                        }\n",
       "                    }\n",
       "                }\n",
       "            }\n",
       "\n",
       "            canvas.addEventListener(\"click\", display_coordinates);\n",
       "\n",
       "            var module = {};\n",
       "            module.show_coordinates = function(axis_id, projection)\n",
       "            {\n",
       "                axes[axis_id] = projection;\n",
       "            }\n",
       "\n",
       "            return module;\n",
       "        })(modules[\"toyplot/canvas\"]);\n",
       "(function(tables, context_menu, io, owner_id, key, label, names, columns, filename)\n",
       "        {\n",
       "            tables.set(owner_id, key, names, columns);\n",
       "\n",
       "            var owner = document.querySelector(\"#\" + owner_id);\n",
       "            function show_item(e)\n",
       "            {\n",
       "                return owner.contains(e.target);\n",
       "            }\n",
       "\n",
       "            function choose_item()\n",
       "            {\n",
       "                io.save_file(\"text/csv\", \"utf-8\", tables.get_csv(owner_id, key), filename + \".csv\");\n",
       "            }\n",
       "\n",
       "            context_menu.add_item(\"Save \" + label + \" as CSV\", show_item, choose_item);\n",
       "        })(modules[\"toyplot/tables\"],modules[\"toyplot/menus/context\"],modules[\"toyplot/io\"],\"td0ba033f674146ccb6bd84c110495b68\",\"vertex_data\",\"graph vertex data\",[\"x\", \"y\"],[[0.0, 1.0, 2.0, 3.0, 4.0, 5.0, 6.0, 7.0, 8.0, 9.0, 0.5, 5.5, 1.25, 3.5, 6.25, 8.5, 2.375, 7.375, 4.875, 7.375, 2.375, 8.5, 6.25, 3.5, 1.25, 9.0, 8.0, 7.0, 5.5, 4.0, 3.0, 2.0, 0.5, 6.0, 5.0, 1.0, 0.0], [0.0, 0.0, 0.0, 0.0, 0.0, 0.0, 0.0, 0.0, 0.0, 0.0, 500000.0, 500000.0, 1000000.0, 1000000.0, 1000000.0, 1000000.0, 1500000.0, 1500000.0, 2000000.0, 2000000.0, 2000000.0, 1500000.0, 1500000.0, 1500000.0, 1500000.0, 1000000.0, 1000000.0, 1000000.0, 1000000.0, 1000000.0, 1000000.0, 1000000.0, 1000000.0, 500000.0, 500000.0, 500000.0, 500000.0]],\"toyplot\");\n",
       "(function(tables, context_menu, io, owner_id, key, label, names, columns, filename)\n",
       "        {\n",
       "            tables.set(owner_id, key, names, columns);\n",
       "\n",
       "            var owner = document.querySelector(\"#\" + owner_id);\n",
       "            function show_item(e)\n",
       "            {\n",
       "                return owner.contains(e.target);\n",
       "            }\n",
       "\n",
       "            function choose_item()\n",
       "            {\n",
       "                io.save_file(\"text/csv\", \"utf-8\", tables.get_csv(owner_id, key), filename + \".csv\");\n",
       "            }\n",
       "\n",
       "            context_menu.add_item(\"Save \" + label + \" as CSV\", show_item, choose_item);\n",
       "        })(modules[\"toyplot/tables\"],modules[\"toyplot/menus/context\"],modules[\"toyplot/io\"],\"td0ba033f674146ccb6bd84c110495b68\",\"edge_data\",\"graph edge data\",[\"source\", \"target\"],[[19, 20, 21, 22, 23, 24, 25, 26, 27, 28, 29, 30, 31, 32, 33, 34, 35, 36, 18, 18, 17, 17, 16, 16, 15, 15, 14, 14, 13, 13, 12, 12, 11, 11, 10, 10], [17, 16, 15, 14, 13, 12, 9, 8, 7, 11, 4, 3, 2, 10, 6, 5, 1, 0, 19, 20, 21, 22, 23, 24, 25, 26, 27, 28, 29, 30, 31, 32, 33, 34, 35, 36]],\"toyplot\");\n",
       "(function(tables, context_menu, io, owner_id, key, label, names, columns, filename)\n",
       "        {\n",
       "            tables.set(owner_id, key, names, columns);\n",
       "\n",
       "            var owner = document.querySelector(\"#\" + owner_id);\n",
       "            function show_item(e)\n",
       "            {\n",
       "                return owner.contains(e.target);\n",
       "            }\n",
       "\n",
       "            function choose_item()\n",
       "            {\n",
       "                io.save_file(\"text/csv\", \"utf-8\", tables.get_csv(owner_id, key), filename + \".csv\");\n",
       "            }\n",
       "\n",
       "            context_menu.add_item(\"Save \" + label + \" as CSV\", show_item, choose_item);\n",
       "        })(modules[\"toyplot/tables\"],modules[\"toyplot/menus/context\"],modules[\"toyplot/io\"],\"t89186b4552544ef48050ded0c01d17b1\",\"data\",\"point\",[\"x\", \"y0\"],[[0.0, 1.0, 2.0, 3.0, 4.0, 5.0, 6.0, 7.0, 8.0, 9.0, 0.5, 5.5, 1.25, 3.5, 6.25, 8.5, 2.375, 7.375, 4.875], [0.0, 0.0, 0.0, 0.0, 0.0, 0.0, 0.0, 0.0, 0.0, 0.0, 500000.0, 500000.0, 1000000.0, 1000000.0, 1000000.0, 1000000.0, 1500000.0, 1500000.0, 2000000.0]],\"toyplot\");\n",
       "(function(axis, axis_id, projection)\n",
       "        {\n",
       "            axis.show_coordinates(axis_id, projection);\n",
       "        })(modules[\"toyplot.coordinates.Axis\"],\"tbf5e8d19e5084149bcbc1fdab1527f97\",[{\"domain\": {\"bounds\": {\"max\": Infinity, \"min\": -Infinity}, \"max\": 2000000.0, \"min\": -200000.0}, \"range\": {\"bounds\": {\"max\": Infinity, \"min\": -Infinity}, \"max\": 160.0, \"min\": 0.0}, \"scale\": \"linear\"}]);\n",
       "})();</script></div></div>"
      ]
     },
     "metadata": {},
     "output_type": "display_data"
    }
   ],
   "source": [
    "# here is an opportunity to change the node heights... we'll just copy in the original tree\n",
    "slidetree=input_topo\n",
    "\n",
    "# mut rate same as in training\n",
    "mut=1e-8\n",
    "\n",
    "# set the Ne values for the whole tree\n",
    "Ne_min = 500000\n",
    "Ne_max = 500000\n",
    "popsizes = np.random.uniform(\n",
    "                Ne_min, Ne_max, slidetree.nnodes)\n",
    "\n",
    "slidetree = slidetree.set_node_values(\"Ne\", default=1e5)\n",
    "nes = iter(popsizes)\n",
    "\n",
    "slidetree = slidetree.set_node_values(\n",
    "    \"Ne\",\n",
    "    {i.name: next(nes) for i in slidetree.get_feature_dict()}\n",
    ")\n",
    "\n",
    "# plot the tree\n",
    "slidetree.draw(ts='p',\n",
    "    edge_type='p');"
   ]
  },
  {
   "cell_type": "markdown",
   "metadata": {},
   "source": [
    "### Propose an admixture edge  \n",
    "...using the toytree/ipcoal format for doing so."
   ]
  },
  {
   "cell_type": "code",
   "execution_count": 6,
   "metadata": {},
   "outputs": [],
   "source": [
    "source = 12\n",
    "dest = 15\n",
    "time = 0.5\n",
    "magnitude = 0.4\n",
    "\n",
    "# define admixture tuple\n",
    "admix = (\n",
    "    source,\n",
    "    dest,\n",
    "    time,\n",
    "    magnitude\n",
    ")"
   ]
  },
  {
   "cell_type": "markdown",
   "metadata": {},
   "source": [
    "### Define our model"
   ]
  },
  {
   "cell_type": "code",
   "execution_count": 7,
   "metadata": {},
   "outputs": [],
   "source": [
    "# build ipcoal Model object using our defined parameters\n",
    "model = ipcoal.Model(\n",
    "    tree=slidetree,\n",
    "    admixture_edges=[admix],\n",
    "    Ne=None,\n",
    "    mut=mut,\n",
    "    seed=12345,\n",
    "    )"
   ]
  },
  {
   "cell_type": "markdown",
   "metadata": {},
   "source": [
    "### Simulate many SNPs"
   ]
  },
  {
   "cell_type": "code",
   "execution_count": 8,
   "metadata": {},
   "outputs": [],
   "source": [
    "model.sim_snps(20000)"
   ]
  },
  {
   "cell_type": "markdown",
   "metadata": {},
   "source": [
    "### Restructure the simulated SNPs into count matrices using the ipcoal `get_snps_count_matrix` function."
   ]
  },
  {
   "cell_type": "code",
   "execution_count": 9,
   "metadata": {},
   "outputs": [],
   "source": [
    "count_mat=ipcoal.utils.get_snps_count_matrix(model.treeorig,model.seqs)"
   ]
  },
  {
   "cell_type": "markdown",
   "metadata": {},
   "source": [
    "### Normalize the simulated count matrix"
   ]
  },
  {
   "cell_type": "code",
   "execution_count": 10,
   "metadata": {},
   "outputs": [],
   "source": [
    "count_mat = count_mat / count_mat.max()"
   ]
  },
  {
   "cell_type": "markdown",
   "metadata": {},
   "source": [
    "### Feed the simulated SNP data to the first stage model"
   ]
  },
  {
   "cell_type": "code",
   "execution_count": 11,
   "metadata": {},
   "outputs": [
    {
     "data": {
      "text/plain": [
       "42"
      ]
     },
     "execution_count": 11,
     "metadata": {},
     "output_type": "execute_result"
    }
   ],
   "source": [
    "pred1 = firststage_mod.predict(count_mat.reshape(1,210*16*16))\n",
    "np.argmax(pred1[0])"
   ]
  },
  {
   "cell_type": "markdown",
   "metadata": {},
   "source": [
    "### Feed the first stage model output to the second stage model"
   ]
  },
  {
   "cell_type": "code",
   "execution_count": 12,
   "metadata": {
    "scrolled": true
   },
   "outputs": [
    {
     "data": {
      "text/plain": [
       "42"
      ]
     },
     "execution_count": 12,
     "metadata": {},
     "output_type": "execute_result"
    }
   ],
   "source": [
    "pred2 = secondstage_mod.predict(pred1)\n",
    "np.argmax(pred2[0])"
   ]
  },
  {
   "cell_type": "markdown",
   "metadata": {},
   "source": [
    "### Make a prediction"
   ]
  },
  {
   "cell_type": "code",
   "execution_count": 13,
   "metadata": {},
   "outputs": [
    {
     "data": {
      "text/plain": [
       "'12,15'"
      ]
     },
     "execution_count": 13,
     "metadata": {},
     "output_type": "execute_result"
    }
   ],
   "source": [
    "# what is the prediction?\n",
    "onehot_dict[str(np.argmax(pred2[0]))][0]"
   ]
  },
  {
   "cell_type": "markdown",
   "metadata": {},
   "source": [
    "### Compare to the correct answer"
   ]
  },
  {
   "cell_type": "code",
   "execution_count": 14,
   "metadata": {},
   "outputs": [
    {
     "data": {
      "text/plain": [
       "'12,15'"
      ]
     },
     "execution_count": 14,
     "metadata": {},
     "output_type": "execute_result"
    }
   ],
   "source": [
    "# what is the correct answer?\n",
    "','.join([str(source),str(dest)])"
   ]
  }
 ],
 "metadata": {
  "kernelspec": {
   "display_name": "Python 3",
   "language": "python",
   "name": "python3"
  },
  "language_info": {
   "codemirror_mode": {
    "name": "ipython",
    "version": 3
   },
   "file_extension": ".py",
   "mimetype": "text/x-python",
   "name": "python",
   "nbconvert_exporter": "python",
   "pygments_lexer": "ipython3",
   "version": "3.7.4"
  }
 },
 "nbformat": 4,
 "nbformat_minor": 2
}
