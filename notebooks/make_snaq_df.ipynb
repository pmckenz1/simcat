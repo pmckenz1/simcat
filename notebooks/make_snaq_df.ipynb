{
 "cells": [
  {
   "cell_type": "markdown",
   "metadata": {},
   "source": [
    "## Make a DataFrame consolidating snaq results on the cluster."
   ]
  },
  {
   "cell_type": "markdown",
   "metadata": {},
   "source": [
    "### Each snaq run was trying to detect introgression from 1000 loci of 300bp apiece."
   ]
  },
  {
   "cell_type": "code",
   "execution_count": 1,
   "metadata": {},
   "outputs": [],
   "source": [
    "import numpy as np\n",
    "import toytree\n",
    "import os\n",
    "import re\n",
    "import toyplot\n",
    "import pandas as pd\n",
    "from sklearn.linear_model import LogisticRegression\n",
    "from sklearn.metrics import classification_report, confusion_matrix\n",
    "\n",
    "import statsmodels.api as sm\n",
    "from statsmodels.formula.api import logit"
   ]
  },
  {
   "cell_type": "markdown",
   "metadata": {},
   "source": [
    "### Lots of snaq runs finshed in separate jobs on the cluster. Here's a scenario with a balanced, 10-tip species tree that is 2e6 generations tall."
   ]
  },
  {
   "cell_type": "code",
   "execution_count": 2,
   "metadata": {},
   "outputs": [
    {
     "data": {
      "text/plain": [
       "1000"
      ]
     },
     "execution_count": 2,
     "metadata": {},
     "output_type": "execute_result"
    }
   ],
   "source": [
    "len(os.listdir(\"../bal_10k_2mil/may2020runs/\"))"
   ]
  },
  {
   "cell_type": "code",
   "execution_count": 3,
   "metadata": {},
   "outputs": [
    {
     "data": {
      "text/plain": [
       "['705', '338', '630', '263', '334', '747', '69', '672', '743', '376']"
      ]
     },
     "execution_count": 3,
     "metadata": {},
     "output_type": "execute_result"
    }
   ],
   "source": [
    "os.listdir(\"../bal_10k_2mil/may2020runs/\")[:10]"
   ]
  },
  {
   "cell_type": "markdown",
   "metadata": {},
   "source": [
    "### In each directory, there are snaq results and a metadata file with information about the simulated scenario."
   ]
  },
  {
   "cell_type": "markdown",
   "metadata": {},
   "source": [
    "Let's look at the metadata file for the first run:"
   ]
  },
  {
   "cell_type": "code",
   "execution_count": 4,
   "metadata": {
    "scrolled": true
   },
   "outputs": [
    {
     "name": "stdout",
     "output_type": "stream",
     "text": [
      "\n",
      "newick=(((r6:995183,r5:995183)15:780017,(r7:1.22692e+06,(r9:542302,r8:542302)11:684614)14:548284)17:770606,((r1:1.23064e+06,r0:1.23064e+06)13:671941,(r2:1.42251e+06,(r4:564096,r3:564096)10:858418)12:480063)16:643229);\n",
      "root_height=2545806.0207428304\n",
      "popsizes=[600904.82211533 945078.42556007 203872.76377977 719233.59877209\n",
      " 248695.98196572 636929.1519803  699703.88114598 560834.73207103\n",
      " 162933.00179411 886479.53112118 142603.81060688 426131.06857097\n",
      " 994216.73974058 655912.10955362 433439.13679275 692039.24499592\n",
      " 652694.70227892 903087.9836565  862426.99855271]\n",
      "source=8\n",
      "dest=7\n",
      "time=0.48795282276820184\n",
      "magnitude=0.4800977604607741\n",
      "recomb=5e-08\n",
      "nloci=1000\n",
      "nbp=300\n",
      "seed=739986152\n",
      "\n"
     ]
    }
   ],
   "source": [
    "with open(\"../bal_10k_2mil/may2020runs/1/meta_data.txt\") as f:\n",
    "    print(f.read())"
   ]
  },
  {
   "cell_type": "markdown",
   "metadata": {},
   "source": [
    "### Load in all of the snaq results:"
   ]
  },
  {
   "cell_type": "code",
   "execution_count": 5,
   "metadata": {
    "scrolled": false
   },
   "outputs": [],
   "source": [
    "# save whether snaq got the source/dest correct\n",
    "correct_snaq = []\n",
    "# save the magnitude of introgression from the simulation\n",
    "magnitudes = []\n",
    "# save the true source from the simulation\n",
    "sources = []\n",
    "# save the true dest from the simulation\n",
    "dests = []\n",
    "\n",
    "pseudo_liks_net1 = []\n",
    "pseudo_liks_net0 = []\n",
    "\n",
    "for loop in range(1000):\n",
    "    working_dir = \"../bal_10k_2mil/may2020runs/\" + str(loop+1) + \"/\"\n",
    "    \n",
    "    # if the simulation finished... (many didn't)\n",
    "    if \"bestnet_h1.tre\" in os.listdir(working_dir):\n",
    "        with open(working_dir + \"net1.out\") as f:   #\"bestnet_h1.tre\") as f:\n",
    "            # read in the snaq result\n",
    "            #hybrid_new=f.read().split()[0]\n",
    "            first = f.read().split('\\n')[0].split()\n",
    "            hybrid_new = first[0]\n",
    "            pseudolik_net1 = first[-1]\n",
    "        with open(working_dir + \"net0.out\") as f:   #\"bestnet_h1.tre\") as f:\n",
    "            # read in the snaq result\n",
    "            #hybrid_new=f.read().split()[0]\n",
    "            first = f.read().split('\\n')[0].split()\n",
    "            #hybrid_new = first[0]\n",
    "            pseudolik_net0 = first[-1]\n",
    "        \n",
    "        with open(working_dir + \"meta_data.txt\") as f:\n",
    "            # read in the simulation metadata\n",
    "            meta = f.read().split()\n",
    "            \n",
    "        # get the simulated newick tree (with node sliding and rood sliding)\n",
    "        simnewick = meta[0].split(\"newick=\")[1]\n",
    "        # toytree-ify the newick\n",
    "        simtopo = toytree.tree(simnewick)\n",
    "        # get the simulated introgression magnitude\n",
    "        magnitude = float(meta[np.argmax([i[:9]=='magnitude' for i in meta])].split('magnitude=')[1])\n",
    "        # get the simulated source\n",
    "        simsource = int(meta[np.argmax([i[:6]=='source' for i in meta])].split('source=')[1])\n",
    "        # get the simulated dest\n",
    "        simdest = int(meta[np.argmax([i[:4]=='dest' for i in meta])].split('dest=')[1])\n",
    "        \n",
    "        # we want to record the leaf names from below the introgression event to make the edges\n",
    "        # on the toytree comparable to the snaq tree\n",
    "        for i in simtopo.treenode.traverse():\n",
    "            if i.idx == simsource:\n",
    "                sim_source_descendant_leaves = [q.name for q in i.get_leaves()]\n",
    "            if i.idx == simdest:\n",
    "                sim_dest_descendant_leaves = [q.name for q in i.get_leaves()]\n",
    "                \n",
    "        # now parse the snaq output network tree\n",
    "        # first, gotta remove the pound-signed hybrid edge\n",
    "        # to do this, we have to break apart the newick by parantheses and commas\n",
    "        fs = hybrid_new.split('(')\n",
    "        ss = [i.split(')') for i in fs]\n",
    "        ts = [[i.split(',') for i in q] for q in ss]\n",
    "        activate=0\n",
    "        for i in range(len(ts)):\n",
    "            for q in range(len(ts[i])):\n",
    "                for p in range(len(ts[i][q])):\n",
    "                    if \"#\" in ts[i][q][p]:\n",
    "                        #ts[i][q].pop(p)\n",
    "                        ts[i][q][p] = ''\n",
    "                        activate += 1\n",
    "                    if activate:\n",
    "                        break\n",
    "                if activate:\n",
    "                    break\n",
    "            if activate:\n",
    "                break\n",
    "\n",
    "        activate=0\n",
    "        for i in range(len(ts)):\n",
    "            for q in range(len(ts[i])):\n",
    "                for p in range(len(ts[i][q])):\n",
    "                    if \"#\" in ts[i][q][p]:\n",
    "                        #ts[i][q].pop(p)\n",
    "                        ts[i][q][p] = ''\n",
    "                        activate += 1\n",
    "                    if activate:\n",
    "                        break\n",
    "                if activate:\n",
    "                    break\n",
    "            if activate:\n",
    "                break\n",
    "        \n",
    "        # now, re-merge the newick file\n",
    "        ss_new = [[\",\".join(p) for p in q] for q in ts]\n",
    "        edge_removed_newick = \"(\".join([\")\".join(i) for i in ss_new])\n",
    "        \n",
    "        # remove commas that come before parantheses...\n",
    "        edge_removed_newick = re.sub(\",\\)\",\")\",edge_removed_newick)\n",
    "        \n",
    "        # rarely, the topology is misinferred, and this isn't a monophyletic group.\n",
    "        try:\n",
    "            ed_rem_tre = toytree.tree(edge_removed_newick).root([\"r0\",\"r1\",\"r2\",\"r3\",\"r4\"])\n",
    "        except:\n",
    "            pass\n",
    "        \n",
    "        # save the descendant leaves from the ends of the hybrid edge, to compare to the simulated results\n",
    "        snaq_hybrid_descendant_leaves = []\n",
    "        for currnode in ed_rem_tre.treenode.traverse():    \n",
    "            if len(currnode.get_children()) == 1 and not currnode.is_leaf():\n",
    "                snaq_hybrid_descendant_leaves.append([i.name for i in currnode.get_leaves()])\n",
    "        sim_sourcedest = [sim_dest_descendant_leaves,sim_source_descendant_leaves]\n",
    "        \n",
    "        # do the snaq results match the simulated results? Just looking at the same two branches. \n",
    "        correct_snaq.append(sorted([\"\".join(sorted(i)) for i in snaq_hybrid_descendant_leaves]) == sorted([\"\".join(sorted(i)) for i in sim_sourcedest]))\n",
    "        magnitudes.append(magnitude)\n",
    "        sources.append(simsource)\n",
    "        dests.append(simdest)\n",
    "        pseudo_liks_net0.append(pseudolik_net0)\n",
    "        pseudo_liks_net1.append(pseudolik_net1)"
   ]
  },
  {
   "cell_type": "markdown",
   "metadata": {},
   "source": [
    "### Record which introgressive events are between sister edges..."
   ]
  },
  {
   "cell_type": "code",
   "execution_count": 6,
   "metadata": {},
   "outputs": [],
   "source": [
    "sisters = []\n",
    "for i in simtopo.treenode.traverse():\n",
    "    if len(i.get_children()) == 2:\n",
    "        sisters.append(sorted([q.idx for q in i.get_children()]))"
   ]
  },
  {
   "cell_type": "code",
   "execution_count": 7,
   "metadata": {},
   "outputs": [
    {
     "data": {
      "text/plain": [
       "[[16, 17],\n",
       " [14, 15],\n",
       " [12, 13],\n",
       " [8, 9],\n",
       " [7, 11],\n",
       " [3, 4],\n",
       " [2, 10],\n",
       " [5, 6],\n",
       " [0, 1]]"
      ]
     },
     "execution_count": 7,
     "metadata": {},
     "output_type": "execute_result"
    }
   ],
   "source": [
    "sisters"
   ]
  },
  {
   "cell_type": "code",
   "execution_count": 8,
   "metadata": {},
   "outputs": [],
   "source": [
    "idx=0\n",
    "which_sister = []\n",
    "for i in zip(sources,dests):\n",
    "    if sorted(i) in sisters:\n",
    "        which_sister.append(idx)\n",
    "        \n",
    "    idx+=1"
   ]
  },
  {
   "cell_type": "markdown",
   "metadata": {},
   "source": [
    "### now build the results table!"
   ]
  },
  {
   "cell_type": "code",
   "execution_count": 39,
   "metadata": {},
   "outputs": [
    {
     "name": "stderr",
     "output_type": "stream",
     "text": [
      "/rigel/home/pfm2119/miniconda3/lib/python3.7/site-packages/ipykernel_launcher.py:3: SettingWithCopyWarning: \n",
      "A value is trying to be set on a copy of a slice from a DataFrame\n",
      "\n",
      "See the caveats in the documentation: http://pandas.pydata.org/pandas-docs/stable/user_guide/indexing.html#returning-a-view-versus-a-copy\n",
      "  This is separate from the ipykernel package so we can avoid doing imports until\n"
     ]
    }
   ],
   "source": [
    "snaq_results_table = pd.DataFrame([sources,dests,magnitudes],index=['source','dest','magnitude']).T\n",
    "snaq_results_table['sisters'] = False\n",
    "snaq_results_table.sisters[which_sister] = True\n",
    "snaq_results_table['pseudolik_0'] = pseudo_liks_net0\n",
    "snaq_results_table['pseudolik_1'] = pseudo_liks_net1\n",
    "snaq_results_table['correct_inf'] = correct_snaq"
   ]
  },
  {
   "cell_type": "code",
   "execution_count": 40,
   "metadata": {},
   "outputs": [
    {
     "data": {
      "text/html": [
       "<div>\n",
       "<style scoped>\n",
       "    .dataframe tbody tr th:only-of-type {\n",
       "        vertical-align: middle;\n",
       "    }\n",
       "\n",
       "    .dataframe tbody tr th {\n",
       "        vertical-align: top;\n",
       "    }\n",
       "\n",
       "    .dataframe thead th {\n",
       "        text-align: right;\n",
       "    }\n",
       "</style>\n",
       "<table border=\"1\" class=\"dataframe\">\n",
       "  <thead>\n",
       "    <tr style=\"text-align: right;\">\n",
       "      <th></th>\n",
       "      <th>source</th>\n",
       "      <th>dest</th>\n",
       "      <th>magnitude</th>\n",
       "      <th>sisters</th>\n",
       "      <th>pseudolik_0</th>\n",
       "      <th>pseudolik_1</th>\n",
       "      <th>correct_inf</th>\n",
       "    </tr>\n",
       "  </thead>\n",
       "  <tbody>\n",
       "    <tr>\n",
       "      <th>0</th>\n",
       "      <td>8.0</td>\n",
       "      <td>7.0</td>\n",
       "      <td>0.480098</td>\n",
       "      <td>False</td>\n",
       "      <td>256.8971302469049</td>\n",
       "      <td>28.469852266426845</td>\n",
       "      <td>True</td>\n",
       "    </tr>\n",
       "    <tr>\n",
       "      <th>1</th>\n",
       "      <td>14.0</td>\n",
       "      <td>2.0</td>\n",
       "      <td>0.337213</td>\n",
       "      <td>False</td>\n",
       "      <td>77.97219005918686</td>\n",
       "      <td>28.85545220031675</td>\n",
       "      <td>False</td>\n",
       "    </tr>\n",
       "    <tr>\n",
       "      <th>2</th>\n",
       "      <td>3.0</td>\n",
       "      <td>14.0</td>\n",
       "      <td>0.347723</td>\n",
       "      <td>False</td>\n",
       "      <td>386.0424276257895</td>\n",
       "      <td>46.64859602813979</td>\n",
       "      <td>False</td>\n",
       "    </tr>\n",
       "    <tr>\n",
       "      <th>3</th>\n",
       "      <td>17.0</td>\n",
       "      <td>16.0</td>\n",
       "      <td>0.077040</td>\n",
       "      <td>True</td>\n",
       "      <td>20.61844240345986</td>\n",
       "      <td>15.044714557780221</td>\n",
       "      <td>False</td>\n",
       "    </tr>\n",
       "    <tr>\n",
       "      <th>4</th>\n",
       "      <td>15.0</td>\n",
       "      <td>14.0</td>\n",
       "      <td>0.147675</td>\n",
       "      <td>True</td>\n",
       "      <td>21.061964883790758</td>\n",
       "      <td>14.912283411239912</td>\n",
       "      <td>False</td>\n",
       "    </tr>\n",
       "    <tr>\n",
       "      <th>...</th>\n",
       "      <td>...</td>\n",
       "      <td>...</td>\n",
       "      <td>...</td>\n",
       "      <td>...</td>\n",
       "      <td>...</td>\n",
       "      <td>...</td>\n",
       "      <td>...</td>\n",
       "    </tr>\n",
       "    <tr>\n",
       "      <th>845</th>\n",
       "      <td>14.0</td>\n",
       "      <td>16.0</td>\n",
       "      <td>0.365770</td>\n",
       "      <td>False</td>\n",
       "      <td>22.47259892182806</td>\n",
       "      <td>16.386109647669407</td>\n",
       "      <td>False</td>\n",
       "    </tr>\n",
       "    <tr>\n",
       "      <th>846</th>\n",
       "      <td>5.0</td>\n",
       "      <td>8.0</td>\n",
       "      <td>0.374643</td>\n",
       "      <td>False</td>\n",
       "      <td>613.2111363884136</td>\n",
       "      <td>33.33656874345728</td>\n",
       "      <td>True</td>\n",
       "    </tr>\n",
       "    <tr>\n",
       "      <th>847</th>\n",
       "      <td>3.0</td>\n",
       "      <td>5.0</td>\n",
       "      <td>0.441719</td>\n",
       "      <td>False</td>\n",
       "      <td>600.7316796139028</td>\n",
       "      <td>25.75708561329744</td>\n",
       "      <td>False</td>\n",
       "    </tr>\n",
       "    <tr>\n",
       "      <th>848</th>\n",
       "      <td>11.0</td>\n",
       "      <td>9.0</td>\n",
       "      <td>0.365026</td>\n",
       "      <td>False</td>\n",
       "      <td>183.02898105542369</td>\n",
       "      <td>34.15571925047308</td>\n",
       "      <td>False</td>\n",
       "    </tr>\n",
       "    <tr>\n",
       "      <th>849</th>\n",
       "      <td>3.0</td>\n",
       "      <td>8.0</td>\n",
       "      <td>0.181455</td>\n",
       "      <td>False</td>\n",
       "      <td>279.5394110015226</td>\n",
       "      <td>33.56504532017067</td>\n",
       "      <td>True</td>\n",
       "    </tr>\n",
       "  </tbody>\n",
       "</table>\n",
       "<p>850 rows × 7 columns</p>\n",
       "</div>"
      ],
      "text/plain": [
       "     source  dest  magnitude  sisters         pseudolik_0         pseudolik_1  \\\n",
       "0       8.0   7.0   0.480098    False   256.8971302469049  28.469852266426845   \n",
       "1      14.0   2.0   0.337213    False   77.97219005918686   28.85545220031675   \n",
       "2       3.0  14.0   0.347723    False   386.0424276257895   46.64859602813979   \n",
       "3      17.0  16.0   0.077040     True   20.61844240345986  15.044714557780221   \n",
       "4      15.0  14.0   0.147675     True  21.061964883790758  14.912283411239912   \n",
       "..      ...   ...        ...      ...                 ...                 ...   \n",
       "845    14.0  16.0   0.365770    False   22.47259892182806  16.386109647669407   \n",
       "846     5.0   8.0   0.374643    False   613.2111363884136   33.33656874345728   \n",
       "847     3.0   5.0   0.441719    False   600.7316796139028   25.75708561329744   \n",
       "848    11.0   9.0   0.365026    False  183.02898105542369   34.15571925047308   \n",
       "849     3.0   8.0   0.181455    False   279.5394110015226   33.56504532017067   \n",
       "\n",
       "     correct_inf  \n",
       "0           True  \n",
       "1          False  \n",
       "2          False  \n",
       "3          False  \n",
       "4          False  \n",
       "..           ...  \n",
       "845        False  \n",
       "846         True  \n",
       "847        False  \n",
       "848        False  \n",
       "849         True  \n",
       "\n",
       "[850 rows x 7 columns]"
      ]
     },
     "execution_count": 40,
     "metadata": {},
     "output_type": "execute_result"
    }
   ],
   "source": [
    "snaq_results_table"
   ]
  },
  {
   "cell_type": "code",
   "execution_count": 42,
   "metadata": {},
   "outputs": [],
   "source": [
    "snaq_results_table.to_csv(\"../data/snaq_results/bal_10tip_2mil/snaq_results.csv\",index=False)"
   ]
  }
 ],
 "metadata": {
  "kernelspec": {
   "display_name": "Python 3",
   "language": "python",
   "name": "python3"
  },
  "language_info": {
   "codemirror_mode": {
    "name": "ipython",
    "version": 3
   },
   "file_extension": ".py",
   "mimetype": "text/x-python",
   "name": "python",
   "nbconvert_exporter": "python",
   "pygments_lexer": "ipython3",
   "version": "3.7.4"
  }
 },
 "nbformat": 4,
 "nbformat_minor": 2
}
