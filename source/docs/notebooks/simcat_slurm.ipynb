{
 "cells": [
  {
   "cell_type": "markdown",
   "metadata": {},
   "source": [
    "# Simcat workflow with slurm"
   ]
  },
  {
   "cell_type": "markdown",
   "metadata": {},
   "source": [
    "The simcat workflow consists of two steps:  \n",
    "\n",
    "1) Fill a database with simulation parameters. This happens a single time and doesn't require parallel computing.  \n",
    "\n",
    "2) Send out many jobs, each of which takes a piece of that database and runs the simulations.  \n",
    "\n",
    "Both of these steps use simcat python code, although the second step works much better if separated into many small jobs on a cluster. Here, I'm demonstrating using **slurm scheduling** to make the second step happen really efficiently by sending out 2000 jobs, each using four cores. "
   ]
  },
  {
   "cell_type": "markdown",
   "metadata": {},
   "source": [
    "### Imports"
   ]
  },
  {
   "cell_type": "code",
   "execution_count": 1,
   "metadata": {},
   "outputs": [],
   "source": [
    "import simcat\n",
    "import toytree"
   ]
  },
  {
   "cell_type": "markdown",
   "metadata": {},
   "source": [
    "## Building the simulation database"
   ]
  },
  {
   "cell_type": "markdown",
   "metadata": {},
   "source": [
    "Building the simulation database requires an input species tree and parameters defining the size of that database and defining the extent of variation we wish to see in species tree parameters. "
   ]
  },
  {
   "cell_type": "markdown",
   "metadata": {},
   "source": [
    "### Define the tree:"
   ]
  },
  {
   "cell_type": "code",
   "execution_count": 2,
   "metadata": {},
   "outputs": [],
   "source": [
    "tre = toytree.rtree.imbtree(8, treeheight = 20e6)"
   ]
  },
  {
   "cell_type": "code",
   "execution_count": 3,
   "metadata": {},
   "outputs": [
    {
     "data": {
      "text/html": [
       "<div class=\"toyplot\" id=\"t7bb1c8b4e27f476ea5543c23003c6036\" style=\"text-align:center\"><svg class=\"toyplot-canvas-Canvas\" height=\"260.0px\" id=\"t6d7d2f89a4674268b4d009124f76278b\" preserveAspectRatio=\"xMidYMid meet\" style=\"background-color:transparent;border-color:#292724;border-style:none;border-width:1.0;fill:rgb(16.1%,15.3%,14.1%);fill-opacity:1.0;font-family:Helvetica;font-size:12px;opacity:1.0;stroke:rgb(16.1%,15.3%,14.1%);stroke-opacity:1.0;stroke-width:1.0\" viewBox=\"0 0 350.0 260.0\" width=\"350.0px\" xmlns=\"http://www.w3.org/2000/svg\" xmlns:toyplot=\"http://www.sandia.gov/toyplot\" xmlns:xlink=\"http://www.w3.org/1999/xlink\"><g class=\"toyplot-coordinates-Cartesian\" id=\"t2de0443f6bc64b73a50203c8bc915bf9\"><clipPath id=\"t6be017605241485c91f334ad5ce949dd\"><rect height=\"200.0\" width=\"290.0\" x=\"30.0\" y=\"30.0\"></rect></clipPath><g clip-path=\"url(#t6be017605241485c91f334ad5ce949dd)\"><g class=\"toytree-mark-Toytree\" id=\"t41db5678157a4d3980a45d85609e051c\"><g class=\"toytree-Edges\" style=\"fill:none;stroke:rgb(14.9%,14.9%,14.9%);stroke-linecap:round;stroke-opacity:1;stroke-width:2\"><path d=\"M 255.0 61.5 L 223.3 79.0\" id=\"14,13\"></path><path d=\"M 223.3 79.0 L 191.9 96.6\" id=\"13,12\"></path><path d=\"M 191.9 96.6 L 161.0 114.1\" id=\"12,11\"></path><path d=\"M 161.0 114.1 L 131.2 131.6\" id=\"11,10\"></path><path d=\"M 131.2 131.6 L 103.3 149.1\" id=\"10,9\"></path><path d=\"M 103.3 149.1 L 79.3 166.7\" id=\"9,8\"></path><path d=\"M 255.0 61.5 L 286.6 184.2\" id=\"14,7\"></path><path d=\"M 223.3 79.0 L 254.7 184.2\" id=\"13,6\"></path><path d=\"M 191.9 96.6 L 222.8 184.2\" id=\"12,5\"></path><path d=\"M 161.0 114.1 L 190.9 184.2\" id=\"11,4\"></path><path d=\"M 131.2 131.6 L 159.1 184.2\" id=\"10,3\"></path><path d=\"M 103.3 149.1 L 127.2 184.2\" id=\"9,2\"></path><path d=\"M 79.3 166.7 L 95.3 184.2\" id=\"8,1\"></path><path d=\"M 79.3 166.7 L 63.4 184.2\" id=\"8,0\"></path></g><g class=\"toytree-Nodes\" style=\"fill:rgb(40%,76.1%,64.7%);fill-opacity:1.0;stroke:rgb(14.9%,14.9%,14.9%);stroke-opacity:1.0;stroke-width:1\"><g id=\"node-0\" transform=\"translate(63.393,184.184)\"><circle r=\"7.5\"></circle></g><g id=\"node-1\" transform=\"translate(95.281,184.184)\"><circle r=\"7.5\"></circle></g><g id=\"node-2\" transform=\"translate(127.168,184.184)\"><circle r=\"7.5\"></circle></g><g id=\"node-3\" transform=\"translate(159.056,184.184)\"><circle r=\"7.5\"></circle></g><g id=\"node-4\" transform=\"translate(190.944,184.184)\"><circle r=\"7.5\"></circle></g><g id=\"node-5\" transform=\"translate(222.832,184.184)\"><circle r=\"7.5\"></circle></g><g id=\"node-6\" transform=\"translate(254.719,184.184)\"><circle r=\"7.5\"></circle></g><g id=\"node-7\" transform=\"translate(286.607,184.184)\"><circle r=\"7.5\"></circle></g><g id=\"node-8\" transform=\"translate(79.337,166.658)\"><circle r=\"7.5\"></circle></g><g id=\"node-9\" transform=\"translate(103.253,149.132)\"><circle r=\"7.5\"></circle></g><g id=\"node-10\" transform=\"translate(131.154,131.606)\"><circle r=\"7.5\"></circle></g><g id=\"node-11\" transform=\"translate(161.049,114.080)\"><circle r=\"7.5\"></circle></g><g id=\"node-12\" transform=\"translate(191.940,96.554)\"><circle r=\"7.5\"></circle></g><g id=\"node-13\" transform=\"translate(223.330,79.028)\"><circle r=\"7.5\"></circle></g><g id=\"node-14\" transform=\"translate(254.969,61.501)\"><circle r=\"7.5\"></circle></g></g><g class=\"toytree-NodeLabels\" style=\"fill:rgb(14.9%,14.9%,14.9%);fill-opacity:1.0;font-size:9px;stroke:none\"><g transform=\"translate(60.89,186.48)\"><text>0</text></g><g transform=\"translate(92.78,186.48)\"><text>1</text></g><g transform=\"translate(124.67,186.48)\"><text>2</text></g><g transform=\"translate(156.55,186.48)\"><text>3</text></g><g transform=\"translate(188.44,186.48)\"><text>4</text></g><g transform=\"translate(220.33,186.48)\"><text>5</text></g><g transform=\"translate(252.22,186.48)\"><text>6</text></g><g transform=\"translate(284.11,186.48)\"><text>7</text></g><g transform=\"translate(76.83,168.96)\"><text>8</text></g><g transform=\"translate(100.75,151.43)\"><text>9</text></g><g transform=\"translate(126.15,133.91)\"><text>10</text></g><g transform=\"translate(156.05,116.38)\"><text>11</text></g><g transform=\"translate(186.94,98.85)\"><text>12</text></g><g transform=\"translate(218.33,81.33)\"><text>13</text></g><g transform=\"translate(249.96,63.80)\"><text>14</text></g></g><g class=\"toytree-TipLabels\" style=\"fill:rgb(14.9%,14.9%,14.9%);fill-opacity:1.0;font-family:helvetica;font-size:11px;font-weight:normal;stroke:none;white-space:pre\"><g transform=\"translate(63.39,184.18)rotate(-90)\"><text style=\"\" x=\"-24.78\" y=\"2.81\">r0</text></g><g transform=\"translate(95.28,184.18)rotate(-90)\"><text style=\"\" x=\"-24.78\" y=\"2.81\">r1</text></g><g transform=\"translate(127.17,184.18)rotate(-90)\"><text style=\"\" x=\"-24.78\" y=\"2.81\">r2</text></g><g transform=\"translate(159.06,184.18)rotate(-90)\"><text style=\"\" x=\"-24.78\" y=\"2.81\">r3</text></g><g transform=\"translate(190.94,184.18)rotate(-90)\"><text style=\"\" x=\"-24.78\" y=\"2.81\">r4</text></g><g transform=\"translate(222.83,184.18)rotate(-90)\"><text style=\"\" x=\"-24.78\" y=\"2.81\">r5</text></g><g transform=\"translate(254.72,184.18)rotate(-90)\"><text style=\"\" x=\"-24.78\" y=\"2.81\">r6</text></g><g transform=\"translate(286.61,184.18)rotate(-90)\"><text style=\"\" x=\"-24.78\" y=\"2.81\">r7</text></g></g></g></g><g class=\"toyplot-coordinates-Axis\" id=\"tb4e11b64c36a4f638ecec68403ec82df\" transform=\"translate(50.0,210.0)rotate(-90.0)translate(0,-20.0)\"><line style=\"\" x1=\"25.816196943484645\" x2=\"148.4985311665844\" y1=\"0\" y2=\"0\"></line><g><line style=\"\" x1=\"25.816196943484645\" x2=\"25.816196943484645\" y1=\"0\" y2=\"5\"></line><line style=\"\" x1=\"87.1573640550345\" x2=\"87.1573640550345\" y1=\"0\" y2=\"5\"></line><line style=\"\" x1=\"148.4985311665844\" x2=\"148.4985311665844\" y1=\"0\" y2=\"5\"></line></g><g><g transform=\"translate(25.816196943484645,-6)\"><text style=\"fill:rgb(16.1%,15.3%,14.1%);fill-opacity:1.0;font-family:helvetica;font-size:10.0px;font-weight:normal;stroke:none;vertical-align:baseline;white-space:pre\" x=\"-2.78\" y=\"-4.440892098500626e-16\">0</text></g><g transform=\"translate(87.1573640550345,-6)\"><text style=\"fill:rgb(16.1%,15.3%,14.1%);fill-opacity:1.0;font-family:helvetica;font-size:10.0px;font-weight:normal;stroke:none;vertical-align:baseline;white-space:pre\" x=\"-22.24\" y=\"-4.440892098500626e-16\">10000000</text></g><g transform=\"translate(148.4985311665844,-6)\"><text style=\"fill:rgb(16.1%,15.3%,14.1%);fill-opacity:1.0;font-family:helvetica;font-size:10.0px;font-weight:normal;stroke:none;vertical-align:baseline;white-space:pre\" x=\"-22.24\" y=\"-4.440892098500626e-16\">20000000</text></g></g><g class=\"toyplot-coordinates-Axis-coordinates\" style=\"visibility:hidden\" transform=\"\"><line style=\"stroke:rgb(43.9%,50.2%,56.5%);stroke-opacity:1.0;stroke-width:1.0\" x1=\"0\" x2=\"0\" y1=\"3.0\" y2=\"-4.5\"></line><text style=\"alignment-baseline:hanging;fill:rgb(43.9%,50.2%,56.5%);fill-opacity:1.0;font-size:10px;font-weight:normal;stroke:none;text-anchor:middle\" x=\"0\" y=\"6\"></text></g></g></g></svg><div class=\"toyplot-behavior\"><script>(function()\n",
       "{\n",
       "var modules={};\n",
       "modules[\"toyplot/canvas/id\"] = \"t6d7d2f89a4674268b4d009124f76278b\";\n",
       "modules[\"toyplot/canvas\"] = (function(canvas_id)\n",
       "    {\n",
       "        return document.querySelector(\"#\" + canvas_id);\n",
       "    })(modules[\"toyplot/canvas/id\"]);\n",
       "modules[\"toyplot.coordinates.Axis\"] = (\n",
       "        function(canvas)\n",
       "        {\n",
       "            function sign(x)\n",
       "            {\n",
       "                return x < 0 ? -1 : x > 0 ? 1 : 0;\n",
       "            }\n",
       "\n",
       "            function mix(a, b, amount)\n",
       "            {\n",
       "                return ((1.0 - amount) * a) + (amount * b);\n",
       "            }\n",
       "\n",
       "            function log(x, base)\n",
       "            {\n",
       "                return Math.log(Math.abs(x)) / Math.log(base);\n",
       "            }\n",
       "\n",
       "            function in_range(a, x, b)\n",
       "            {\n",
       "                var left = Math.min(a, b);\n",
       "                var right = Math.max(a, b);\n",
       "                return left <= x && x <= right;\n",
       "            }\n",
       "\n",
       "            function inside(range, projection)\n",
       "            {\n",
       "                for(var i = 0; i != projection.length; ++i)\n",
       "                {\n",
       "                    var segment = projection[i];\n",
       "                    if(in_range(segment.range.min, range, segment.range.max))\n",
       "                        return true;\n",
       "                }\n",
       "                return false;\n",
       "            }\n",
       "\n",
       "            function to_domain(range, projection)\n",
       "            {\n",
       "                for(var i = 0; i != projection.length; ++i)\n",
       "                {\n",
       "                    var segment = projection[i];\n",
       "                    if(in_range(segment.range.bounds.min, range, segment.range.bounds.max))\n",
       "                    {\n",
       "                        if(segment.scale == \"linear\")\n",
       "                        {\n",
       "                            var amount = (range - segment.range.min) / (segment.range.max - segment.range.min);\n",
       "                            return mix(segment.domain.min, segment.domain.max, amount)\n",
       "                        }\n",
       "                        else if(segment.scale[0] == \"log\")\n",
       "                        {\n",
       "                            var amount = (range - segment.range.min) / (segment.range.max - segment.range.min);\n",
       "                            var base = segment.scale[1];\n",
       "                            return sign(segment.domain.min) * Math.pow(base, mix(log(segment.domain.min, base), log(segment.domain.max, base), amount));\n",
       "                        }\n",
       "                    }\n",
       "                }\n",
       "            }\n",
       "\n",
       "            var axes = {};\n",
       "\n",
       "            function display_coordinates(e)\n",
       "            {\n",
       "                var current = canvas.createSVGPoint();\n",
       "                current.x = e.clientX;\n",
       "                current.y = e.clientY;\n",
       "\n",
       "                for(var axis_id in axes)\n",
       "                {\n",
       "                    var axis = document.querySelector(\"#\" + axis_id);\n",
       "                    var coordinates = axis.querySelector(\".toyplot-coordinates-Axis-coordinates\");\n",
       "                    if(coordinates)\n",
       "                    {\n",
       "                        var projection = axes[axis_id];\n",
       "                        var local = current.matrixTransform(axis.getScreenCTM().inverse());\n",
       "                        if(inside(local.x, projection))\n",
       "                        {\n",
       "                            var domain = to_domain(local.x, projection);\n",
       "                            coordinates.style.visibility = \"visible\";\n",
       "                            coordinates.setAttribute(\"transform\", \"translate(\" + local.x + \")\");\n",
       "                            var text = coordinates.querySelector(\"text\");\n",
       "                            text.textContent = domain.toFixed(2);\n",
       "                        }\n",
       "                        else\n",
       "                        {\n",
       "                            coordinates.style.visibility= \"hidden\";\n",
       "                        }\n",
       "                    }\n",
       "                }\n",
       "            }\n",
       "\n",
       "            canvas.addEventListener(\"click\", display_coordinates);\n",
       "\n",
       "            var module = {};\n",
       "            module.show_coordinates = function(axis_id, projection)\n",
       "            {\n",
       "                axes[axis_id] = projection;\n",
       "            }\n",
       "\n",
       "            return module;\n",
       "        })(modules[\"toyplot/canvas\"]);\n",
       "(function(axis, axis_id, projection)\n",
       "        {\n",
       "            axis.show_coordinates(axis_id, projection);\n",
       "        })(modules[\"toyplot.coordinates.Axis\"],\"tb4e11b64c36a4f638ecec68403ec82df\",[{\"domain\": {\"bounds\": {\"max\": Infinity, \"min\": -Infinity}, \"max\": 21875000.0, \"min\": -4208624.999999998}, \"range\": {\"bounds\": {\"max\": Infinity, \"min\": -Infinity}, \"max\": 160.0, \"min\": 0.0}, \"scale\": \"linear\"}]);\n",
       "})();</script></div></div>"
      ]
     },
     "metadata": {},
     "output_type": "display_data"
    }
   ],
   "source": [
    "tre.draw(ts='p');"
   ]
  },
  {
   "cell_type": "markdown",
   "metadata": {},
   "source": [
    "### Build the database:"
   ]
  },
  {
   "cell_type": "code",
   "execution_count": 4,
   "metadata": {},
   "outputs": [
    {
     "name": "stdout",
     "output_type": "stream",
     "text": [
      "60000 labels to be stored in: ../imb_8tip_20mil_2admixedges.labels.h5\n"
     ]
    }
   ],
   "source": [
    "db = simcat.Database(\n",
    "    name='imb_8tip_20mil_2admixedges',\n",
    "    workdir=\"../\",\n",
    "    tree=tre,\n",
    "    nrows=60000,\n",
    "    nsnps=20000,\n",
    "    exclude_sisters=True,\n",
    "    existing_admix_edges=[(1,3)],\n",
    "    admix_edge_min=.3,\n",
    "    admix_edge_max=.7,\n",
    "    admix_prop_min=0.05,\n",
    "    admix_prop_max=.5,\n",
    ")"
   ]
  },
  {
   "cell_type": "markdown",
   "metadata": {},
   "source": [
    "Building the database for 60000 simulations took about ten minutes for me -- but it will vary some depending on the size of the tree."
   ]
  },
  {
   "cell_type": "markdown",
   "metadata": {},
   "source": [
    "## Running in parallel on slurm"
   ]
  },
  {
   "cell_type": "markdown",
   "metadata": {},
   "source": [
    "My goal is to run thousands of jobs on the cluster, each of which will do run simulations (taking several hours apiece). I will use a bash script to automate the running of these jobs, each of which will point to a central python script that calls simcat. "
   ]
  },
  {
   "cell_type": "markdown",
   "metadata": {},
   "source": [
    "### Writing the python script:"
   ]
  },
  {
   "cell_type": "markdown",
   "metadata": {},
   "source": [
    "The python script tells simcat to open the database file and pick 30 unfinished jobs. Each job defined in the bash script will call this same python code."
   ]
  },
  {
   "cell_type": "markdown",
   "metadata": {},
   "source": [
    "Notice that we have to define the same name and working directory as in the Database section so that it can find the database and counts file we have written in the previous sections. Think about this when deciding where to save the file and whether to use relative paths."
   ]
  },
  {
   "cell_type": "code",
   "execution_count": 5,
   "metadata": {},
   "outputs": [],
   "source": [
    "python_script = \"\"\"import os\n",
    "import simcat\n",
    "import toytree\n",
    "import sys\n",
    "import ipyparallel as ipp\n",
    "\n",
    "clust_id = sys.argv[1]\n",
    "\n",
    "ipyclient = ipp.Client(cluster_id=str(clust_id))\n",
    "\n",
    "print(\"num of engines: \" + str(len(ipyclient)))\n",
    "\n",
    "tst = simcat.Simulator.Simulator('imb_8tip_20mil_2admixedges','../')  # init simulator\n",
    "tst.run(30,ipyclient=ipyclient)  # 30 runs\n",
    "\"\"\""
   ]
  },
  {
   "cell_type": "markdown",
   "metadata": {},
   "source": [
    "Now write it to your desired location -- again remember that this is important if using relative paths when pointing to the working directory with the `Simulator` object."
   ]
  },
  {
   "cell_type": "code",
   "execution_count": 6,
   "metadata": {},
   "outputs": [],
   "source": [
    "# define path\n",
    "python_script_path = \"/rigel/dsi/users/pfm2119/projects/simcat_power/training/testing/dat/run_queue.py\"\n",
    "\n",
    "# write the file\n",
    "with open(python_script_path,'w') as f:\n",
    "    f.write(python_script)"
   ]
  },
  {
   "cell_type": "markdown",
   "metadata": {},
   "source": [
    "### Writing the bash script:"
   ]
  },
  {
   "cell_type": "markdown",
   "metadata": {},
   "source": [
    "The bash script will point thousands of jobs to the python script that we have written, running each job with a separate slurm script. Each of these slurm scripts will also define the computing resources we're requesting. "
   ]
  },
  {
   "cell_type": "markdown",
   "metadata": {},
   "source": [
    "Notice also that I have started an ipcluster in each slurm script and have given each ipcluster a unique ID and sleep time to start up so that all engines are active when the python script calls for them."
   ]
  },
  {
   "cell_type": "code",
   "execution_count": 7,
   "metadata": {},
   "outputs": [],
   "source": [
    "job_directory = \"/rigel/dsi/users/pfm2119/projects/simcat_power/training/testing/logs\"\n",
    "num_jobs = 2000 # running 2000 to fill up the whole 60k-simulation database... 2000*30=60000\n",
    "account_name = 'dsi'\n",
    "num_cores = 4\n",
    "time = \"11:59:00\""
   ]
  },
  {
   "cell_type": "code",
   "execution_count": 8,
   "metadata": {},
   "outputs": [],
   "source": [
    "bash_script = \"\"\"\n",
    "#!/bin/bash\n",
    "\n",
    "for jobname in $(seq 1 {0}); do\n",
    "\n",
    "    job_directory={1}\n",
    "\n",
    "    job_file=\"${{job_directory}}/${{jobname}}.job\"\n",
    "\n",
    "    clust_id_d=$(cat /dev/urandom | tr -dc 'a-zA-Z0-9' | fold -w 8 | head -n 1)\n",
    "    clust_id=\"${{clust_id_d}}\"\n",
    "    echo \"#!/bin/bash\n",
    "#SBATCH --workdir=$job_directory\n",
    "#SBATCH --account={2}\n",
    "#SBATCH --job-name=sc${{jobname}}\n",
    "#SBATCH --cores={3}\n",
    "#SBATCH --nodes=1\n",
    "#SBATCH --time={4}\n",
    "\n",
    "ipcluster start --n {3} --daemonize --debug --cluster-id=${{clust_id}} --delay=5.0\n",
    "sleep 330\n",
    "date +%Y-%m-%d-%H:%M:%S\n",
    "which python\n",
    "date +%Y-%m-%d-%H:%M:%S\n",
    "python {5} ${{clust_id}}\n",
    "date +%Y-%m-%d-%H:%M:%S\" > $job_file\n",
    "\n",
    "    sbatch $job_file\n",
    "\n",
    "    rm $job_file\n",
    "\n",
    "done\n",
    "\"\"\".format(num_jobs,job_directory,account_name, num_cores, time, python_script_path)"
   ]
  },
  {
   "cell_type": "code",
   "execution_count": 9,
   "metadata": {},
   "outputs": [
    {
     "name": "stdout",
     "output_type": "stream",
     "text": [
      "\n",
      "#!/bin/bash\n",
      "\n",
      "for jobname in $(seq 1 2000); do\n",
      "\n",
      "    job_directory=/rigel/dsi/users/pfm2119/projects/simcat_power/training/testing/logs\n",
      "\n",
      "    job_file=\"${job_directory}/${jobname}.job\"\n",
      "\n",
      "    clust_id_d=$(cat /dev/urandom | tr -dc 'a-zA-Z0-9' | fold -w 8 | head -n 1)\n",
      "    clust_id=\"${clust_id_d}\"\n",
      "    echo \"#!/bin/bash\n",
      "#SBATCH --workdir=$job_directory\n",
      "#SBATCH --account=dsi\n",
      "#SBATCH --job-name=sc${jobname}\n",
      "#SBATCH --cores=4\n",
      "#SBATCH --nodes=1\n",
      "#SBATCH --time=11:59:00\n",
      "\n",
      "ipcluster start --n 4 --daemonize --debug --cluster-id=${clust_id} --delay=5.0\n",
      "sleep 330\n",
      "date +%Y-%m-%d-%H:%M:%S\n",
      "which python\n",
      "date +%Y-%m-%d-%H:%M:%S\n",
      "python /rigel/dsi/users/pfm2119/projects/simcat_power/training/testing/dat/run_queue.py ${clust_id}\n",
      "date +%Y-%m-%d-%H:%M:%S\" > $job_file\n",
      "\n",
      "    sbatch $job_file\n",
      "\n",
      "    rm $job_file\n",
      "\n",
      "done\n",
      "\n"
     ]
    }
   ],
   "source": [
    "print(bash_script)"
   ]
  },
  {
   "cell_type": "markdown",
   "metadata": {},
   "source": [
    "### Run the jobs:"
   ]
  },
  {
   "cell_type": "markdown",
   "metadata": {},
   "source": [
    "Now I just have to write and run the bash script, and it will submit all of the jobs to slurm."
   ]
  },
  {
   "cell_type": "markdown",
   "metadata": {},
   "source": [
    "Write the bash file:"
   ]
  },
  {
   "cell_type": "code",
   "execution_count": 10,
   "metadata": {},
   "outputs": [],
   "source": [
    "with open(\"run_sims.sh\",\"w\") as f:\n",
    "    f.write(bash_script)"
   ]
  },
  {
   "cell_type": "markdown",
   "metadata": {},
   "source": [
    "Run the bash file:"
   ]
  },
  {
   "cell_type": "code",
   "execution_count": null,
   "metadata": {},
   "outputs": [],
   "source": [
    "%%bash\n",
    "bash run_sims.sh"
   ]
  },
  {
   "cell_type": "markdown",
   "metadata": {},
   "source": [
    "Now we wait -- if all jobs start immediately, we should have 60000 simulations finished in just 12 hours."
   ]
  }
 ],
 "metadata": {
  "kernelspec": {
   "display_name": "Python 3",
   "language": "python",
   "name": "python3"
  },
  "language_info": {
   "codemirror_mode": {
    "name": "ipython",
    "version": 3
   },
   "file_extension": ".py",
   "mimetype": "text/x-python",
   "name": "python",
   "nbconvert_exporter": "python",
   "pygments_lexer": "ipython3",
   "version": "3.7.4"
  }
 },
 "nbformat": 4,
 "nbformat_minor": 2
}
