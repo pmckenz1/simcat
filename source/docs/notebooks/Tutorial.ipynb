{
 "cells": [
  {
   "cell_type": "markdown",
   "metadata": {},
   "source": [
    "# Tutorial\n",
    "\n",
    "### Getting started\n",
    "\n",
    "Welcome to the *simcat* quickstart tutorial. This page is intended to walk you through the process of using *simcat* to implement machine learning on genome-wide SNP data to infer a species network."
   ]
  },
  {
   "cell_type": "code",
   "execution_count": 1,
   "metadata": {},
   "outputs": [],
   "source": [
    "import simcat\n",
    "import toytree"
   ]
  },
  {
   "cell_type": "markdown",
   "metadata": {},
   "source": [
    "### What do you need?"
   ]
  },
  {
   "cell_type": "markdown",
   "metadata": {},
   "source": [
    "To use *ipcoal*, we expect you to have 1) a **genome-wide SNP dataset**, such as from a RAD method, and 2) an **inferred species tree** with Ne value estimates on the branches and with branch lengths in units of generations."
   ]
  },
  {
   "cell_type": "markdown",
   "metadata": {},
   "source": [
    "### The inference process:"
   ]
  },
  {
   "cell_type": "markdown",
   "metadata": {},
   "source": [
    "*simcat* uses supervised machine learning to infer the location of an admixture edge on a species tree. This involves first generating a big database of simulated data that maps the signal of every possible introgressive edge back to the scenario that produced it. "
   ]
  },
  {
   "cell_type": "markdown",
   "metadata": {},
   "source": [
    "### Training simulation database"
   ]
  },
  {
   "cell_type": "markdown",
   "metadata": {},
   "source": [
    "To generate a training database, we simply need to read in our species tree with *toytree* and give it, along with parameter boundaries, to the `Database()` function. Here is an example of "
   ]
  },
  {
   "cell_type": "code",
   "execution_count": null,
   "metadata": {},
   "outputs": [],
   "source": [
    "tree = toytree.tree('')"
   ]
  },
  {
   "cell_type": "code",
   "execution_count": null,
   "metadata": {},
   "outputs": [],
   "source": [
    "db = simcat.Database(\n",
    "    name=str(jobname),\n",
    "    workdir=\".\",\n",
    "    tree=tree,\n",
    "    n_admix_edges=1,\n",
    "    n_sampled_snps=20000,\n",
    "    n_sampled_admix_prop=1,\n",
    "    n_sampled_Ne=1,\n",
    "    n_sampled_reps=1,\n",
    "    Ne_min=100000,\n",
    "    Ne_max=1000000,\n",
    "    Ne_fixed=False,\n",
    "    admix_prop_min=0.00,\n",
    "    admix_prop_max=0.50,\n",
    "    admix_edge_min=0.3,\n",
    "    admix_edge_max=0.7,\n",
    "    exclude_sisters=False,\n",
    "    node_slider=True,\n",
    "    max_rows_per_test=20,\n",
    "    seed=randseed,\n",
    "    force=False,\n",
    "    quiet=False,\n",
    "    random_sampling=True,\n",
    "    nthreads=2)"
   ]
  },
  {
   "cell_type": "code",
   "execution_count": null,
   "metadata": {},
   "outputs": [],
   "source": [
    "db.run()"
   ]
  }
 ],
 "metadata": {
  "kernelspec": {
   "display_name": "Python 3",
   "language": "python",
   "name": "python3"
  },
  "language_info": {
   "codemirror_mode": {
    "name": "ipython",
    "version": 3
   },
   "file_extension": ".py",
   "mimetype": "text/x-python",
   "name": "python",
   "nbconvert_exporter": "python",
   "pygments_lexer": "ipython3",
   "version": "3.7.4"
  }
 },
 "nbformat": 4,
 "nbformat_minor": 2
}
