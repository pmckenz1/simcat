{
 "cells": [
  {
   "cell_type": "markdown",
   "metadata": {},
   "source": [
    "# Tutorial\n",
    "\n",
    "### Getting started\n",
    "\n",
    "Welcome to the *simcat* quickstart tutorial. This page is intended to walk you through the process of using *simcat* to implement machine learning on genome-wide SNP data to infer a species network."
   ]
  },
  {
   "cell_type": "code",
   "execution_count": 1,
   "metadata": {},
   "outputs": [],
   "source": [
    "import simcat\n",
    "import toytree"
   ]
  },
  {
   "cell_type": "markdown",
   "metadata": {},
   "source": [
    "### What do you need?"
   ]
  },
  {
   "cell_type": "markdown",
   "metadata": {},
   "source": [
    "To use *ipcoal*, we expect you to have 1) a **genome-wide SNP dataset**, such as from a RAD method, and 2) an **inferred species tree** with Ne value estimates on the branches and with branch lengths in units of generations."
   ]
  },
  {
   "cell_type": "markdown",
   "metadata": {},
   "source": [
    "### The inference process:"
   ]
  },
  {
   "cell_type": "markdown",
   "metadata": {},
   "source": [
    "*simcat* uses supervised machine learning to infer the location of an admixture edge on a species tree. This involves first generating a big database of simulated data that maps the signal of every possible introgressive edge back to the scenario that produced it. "
   ]
  },
  {
   "cell_type": "markdown",
   "metadata": {},
   "source": [
    "### Simulation"
   ]
  },
  {
   "cell_type": "code",
   "execution_count": null,
   "metadata": {},
   "outputs": [],
   "source": []
  }
 ],
 "metadata": {
  "kernelspec": {
   "display_name": "Python 3",
   "language": "python",
   "name": "python3"
  },
  "language_info": {
   "codemirror_mode": {
    "name": "ipython",
    "version": 3
   },
   "file_extension": ".py",
   "mimetype": "text/x-python",
   "name": "python",
   "nbconvert_exporter": "python",
   "pygments_lexer": "ipython3",
   "version": "3.7.4"
  }
 },
 "nbformat": 4,
 "nbformat_minor": 2
}
